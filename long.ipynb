{
 "cells": [
  {
   "cell_type": "code",
   "id": "initial_id",
   "metadata": {
    "collapsed": true,
    "ExecuteTime": {
     "end_time": "2025-01-11T00:50:03.413042Z",
     "start_time": "2025-01-11T00:50:03.409831Z"
    }
   },
   "source": [
    "import torch\n",
    "from zmq.green import device\n",
    "\n",
    "torch.__version__"
   ],
   "outputs": [
    {
     "data": {
      "text/plain": [
       "'2.5.1'"
      ]
     },
     "execution_count": 16,
     "metadata": {},
     "output_type": "execute_result"
    }
   ],
   "execution_count": 16
  },
  {
   "metadata": {
    "ExecuteTime": {
     "end_time": "2025-01-11T00:50:03.427342Z",
     "start_time": "2025-01-11T00:50:03.423965Z"
    }
   },
   "cell_type": "code",
   "source": [
    "x = torch.empty(4, 2)\n",
    "print(x)"
   ],
   "id": "18675ab87a10d57a",
   "outputs": [
    {
     "name": "stdout",
     "output_type": "stream",
     "text": [
      "tensor([[0., 0.],\n",
      "        [0., 0.],\n",
      "        [0., 0.],\n",
      "        [0., 0.]])\n"
     ]
    }
   ],
   "execution_count": 17
  },
  {
   "metadata": {
    "ExecuteTime": {
     "end_time": "2025-01-11T00:50:03.443518Z",
     "start_time": "2025-01-11T00:50:03.439874Z"
    }
   },
   "cell_type": "code",
   "source": [
    "x = torch.rand(4, 2)\n",
    "print(x)"
   ],
   "id": "8d755caf9a1afe77",
   "outputs": [
    {
     "name": "stdout",
     "output_type": "stream",
     "text": [
      "tensor([[0.7718, 0.9751],\n",
      "        [0.6092, 0.9924],\n",
      "        [0.6744, 0.2780],\n",
      "        [0.4965, 0.8119]])\n"
     ]
    }
   ],
   "execution_count": 18
  },
  {
   "metadata": {
    "ExecuteTime": {
     "end_time": "2025-01-11T00:50:03.464958Z",
     "start_time": "2025-01-11T00:50:03.462144Z"
    }
   },
   "cell_type": "code",
   "source": [
    "x = torch.zeros(4, 2, dtype=torch.long)\n",
    "print(x)"
   ],
   "id": "e5e23a4f164806a0",
   "outputs": [
    {
     "name": "stdout",
     "output_type": "stream",
     "text": [
      "tensor([[0, 0],\n",
      "        [0, 0],\n",
      "        [0, 0],\n",
      "        [0, 0]])\n"
     ]
    }
   ],
   "execution_count": 19
  },
  {
   "metadata": {
    "ExecuteTime": {
     "end_time": "2025-01-11T00:50:03.479345Z",
     "start_time": "2025-01-11T00:50:03.475407Z"
    }
   },
   "cell_type": "code",
   "source": [
    "x = torch.tensor([3, 2.3])\n",
    "print(x)"
   ],
   "id": "19e13a59b44c54b3",
   "outputs": [
    {
     "name": "stdout",
     "output_type": "stream",
     "text": [
      "tensor([3.0000, 2.3000])\n"
     ]
    }
   ],
   "execution_count": 20
  },
  {
   "metadata": {
    "ExecuteTime": {
     "end_time": "2025-01-11T00:50:03.490025Z",
     "start_time": "2025-01-11T00:50:03.486828Z"
    }
   },
   "cell_type": "code",
   "source": [
    "x = x.new_ones(2, 4, dtype=torch.double)\n",
    "print(x)"
   ],
   "id": "72024969da09915d",
   "outputs": [
    {
     "name": "stdout",
     "output_type": "stream",
     "text": [
      "tensor([[1., 1., 1., 1.],\n",
      "        [1., 1., 1., 1.]], dtype=torch.float64)\n"
     ]
    }
   ],
   "execution_count": 21
  },
  {
   "metadata": {
    "ExecuteTime": {
     "end_time": "2025-01-11T00:50:03.497795Z",
     "start_time": "2025-01-11T00:50:03.494996Z"
    }
   },
   "cell_type": "code",
   "source": [
    "x = torch.randn_like(x, dtype=torch.float)\n",
    "print(x)"
   ],
   "id": "3bfdf29906d419a1",
   "outputs": [
    {
     "name": "stdout",
     "output_type": "stream",
     "text": [
      "tensor([[-0.3540, -1.6643, -1.3765, -0.2849],\n",
      "        [ 1.4816, -0.7689, -0.1774, -1.5032]])\n"
     ]
    }
   ],
   "execution_count": 22
  },
  {
   "metadata": {
    "ExecuteTime": {
     "end_time": "2025-01-11T00:50:03.506577Z",
     "start_time": "2025-01-11T00:50:03.504350Z"
    }
   },
   "cell_type": "code",
   "source": "print(x.size())",
   "id": "fcc0d6b577f201ce",
   "outputs": [
    {
     "name": "stdout",
     "output_type": "stream",
     "text": [
      "torch.Size([2, 4])\n"
     ]
    }
   ],
   "execution_count": 23
  },
  {
   "metadata": {
    "ExecuteTime": {
     "end_time": "2025-01-11T00:50:43.102820Z",
     "start_time": "2025-01-11T00:50:43.100341Z"
    }
   },
   "cell_type": "code",
   "source": [
    "x = torch.rand(1)\n",
    "print(x.item())"
   ],
   "id": "2fa09bcd3ac4fc0b",
   "outputs": [
    {
     "name": "stdout",
     "output_type": "stream",
     "text": [
      "0.5643720030784607\n"
     ]
    }
   ],
   "execution_count": 24
  },
  {
   "metadata": {
    "ExecuteTime": {
     "end_time": "2025-01-11T00:53:22.888919Z",
     "start_time": "2025-01-11T00:53:22.885183Z"
    }
   },
   "cell_type": "code",
   "source": [
    "device = torch.device('cpu')\n",
    "y = torch.ones_like(x, device=device)\n",
    "x = x.to(device)"
   ],
   "id": "e1026e46de72d6b0",
   "outputs": [],
   "execution_count": 26
  },
  {
   "metadata": {
    "ExecuteTime": {
     "end_time": "2025-01-11T00:53:23.791140Z",
     "start_time": "2025-01-11T00:53:23.782478Z"
    }
   },
   "cell_type": "code",
   "source": [
    "print(x)\n",
    "print(y)\n",
    "\n",
    "z = x + y\n",
    "print(z)\n",
    "z.to('cpu', dtype=torch.double)"
   ],
   "id": "8b2a30f1233e9f45",
   "outputs": [
    {
     "name": "stdout",
     "output_type": "stream",
     "text": [
      "tensor([0.5644])\n",
      "tensor([1.])\n",
      "tensor([1.5644])\n"
     ]
    },
    {
     "data": {
      "text/plain": [
       "tensor([1.5644], dtype=torch.float64)"
      ]
     },
     "execution_count": 27,
     "metadata": {},
     "output_type": "execute_result"
    }
   ],
   "execution_count": 27
  },
  {
   "metadata": {
    "ExecuteTime": {
     "end_time": "2025-01-11T00:57:32.367415Z",
     "start_time": "2025-01-11T00:57:32.362373Z"
    }
   },
   "cell_type": "code",
   "source": [
    "t0 = torch.tensor(0)\n",
    "print(t0.ndim)\n",
    "print(t0.shape)\n",
    "print(t0)"
   ],
   "id": "af7544a5bb740f3",
   "outputs": [
    {
     "name": "stdout",
     "output_type": "stream",
     "text": [
      "0\n",
      "torch.Size([])\n",
      "tensor(0)\n"
     ]
    }
   ],
   "execution_count": 28
  },
  {
   "metadata": {
    "ExecuteTime": {
     "end_time": "2025-01-11T00:58:11.068268Z",
     "start_time": "2025-01-11T00:58:11.065859Z"
    }
   },
   "cell_type": "code",
   "source": [
    "t1 = torch.tensor([1,2,3])\n",
    "print(t1.ndim)\n",
    "print(t1.shape)\n",
    "print(t1)"
   ],
   "id": "6de8cc6b8f720b99",
   "outputs": [
    {
     "name": "stdout",
     "output_type": "stream",
     "text": [
      "1\n",
      "torch.Size([3])\n",
      "tensor([1, 2, 3])\n"
     ]
    }
   ],
   "execution_count": 29
  },
  {
   "metadata": {
    "ExecuteTime": {
     "end_time": "2025-01-11T00:59:06.173199Z",
     "start_time": "2025-01-11T00:59:06.170395Z"
    }
   },
   "cell_type": "code",
   "source": [
    "t2 = torch.tensor([[1,2,3], [4,5,6]])\n",
    "print(t2.ndim)\n",
    "print(t2.shape)\n",
    "print(t2)"
   ],
   "id": "5d57cc8079bee59b",
   "outputs": [
    {
     "name": "stdout",
     "output_type": "stream",
     "text": [
      "2\n",
      "torch.Size([2, 3])\n",
      "tensor([[1, 2, 3],\n",
      "        [4, 5, 6]])\n"
     ]
    }
   ],
   "execution_count": 30
  },
  {
   "metadata": {},
   "cell_type": "code",
   "outputs": [],
   "execution_count": null,
   "source": [
    "t3 = torch.tensor([[[1,2,3], [4,5,6], [7,8,9]], [[1,2,3], [4,5,6], [7,8,9]], [[1,2,3], [4,5,6], [7,8,9]]])\n",
    "print(t3.ndim)\n",
    "print(t3.shape)\n",
    "print(t3)"
   ],
   "id": "9861a5a15ef67ef5"
  },
  {
   "metadata": {},
   "cell_type": "markdown",
   "source": [
    "4D Tensor\n",
    "- 컬러이미지 데이터가 대표적인 사례\n",
    "- sample, height, width, channel"
   ],
   "id": "1d709b914782e8e"
  },
  {
   "metadata": {},
   "cell_type": "markdown",
   "source": [
    "5D Tensor\n",
    "- sample, frame, width, height, channel"
   ],
   "id": "c6bb21796c149630"
  },
  {
   "metadata": {},
   "cell_type": "code",
   "outputs": [],
   "execution_count": null,
   "source": "",
   "id": "c679fb9ab3a5dd75"
  }
 ],
 "metadata": {
  "kernelspec": {
   "display_name": "Python 3",
   "language": "python",
   "name": "python3"
  },
  "language_info": {
   "codemirror_mode": {
    "name": "ipython",
    "version": 2
   },
   "file_extension": ".py",
   "mimetype": "text/x-python",
   "name": "python",
   "nbconvert_exporter": "python",
   "pygments_lexer": "ipython2",
   "version": "2.7.6"
  }
 },
 "nbformat": 4,
 "nbformat_minor": 5
}
