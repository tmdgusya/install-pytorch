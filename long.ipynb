{
 "cells": [
  {
   "cell_type": "code",
   "id": "initial_id",
   "metadata": {
    "collapsed": true,
    "ExecuteTime": {
     "end_time": "2025-01-11T00:50:03.413042Z",
     "start_time": "2025-01-11T00:50:03.409831Z"
    }
   },
   "source": [
    "import torch\n",
    "from zmq.green import device\n",
    "\n",
    "torch.__version__"
   ],
   "outputs": [
    {
     "data": {
      "text/plain": [
       "'2.5.1'"
      ]
     },
     "execution_count": 16,
     "metadata": {},
     "output_type": "execute_result"
    }
   ],
   "execution_count": 16
  },
  {
   "metadata": {
    "ExecuteTime": {
     "end_time": "2025-01-11T00:50:03.427342Z",
     "start_time": "2025-01-11T00:50:03.423965Z"
    }
   },
   "cell_type": "code",
   "source": [
    "x = torch.empty(4, 2)\n",
    "print(x)"
   ],
   "id": "18675ab87a10d57a",
   "outputs": [
    {
     "name": "stdout",
     "output_type": "stream",
     "text": [
      "tensor([[0., 0.],\n",
      "        [0., 0.],\n",
      "        [0., 0.],\n",
      "        [0., 0.]])\n"
     ]
    }
   ],
   "execution_count": 17
  },
  {
   "metadata": {
    "ExecuteTime": {
     "end_time": "2025-01-11T00:50:03.443518Z",
     "start_time": "2025-01-11T00:50:03.439874Z"
    }
   },
   "cell_type": "code",
   "source": [
    "x = torch.rand(4, 2)\n",
    "print(x)"
   ],
   "id": "8d755caf9a1afe77",
   "outputs": [
    {
     "name": "stdout",
     "output_type": "stream",
     "text": [
      "tensor([[0.7718, 0.9751],\n",
      "        [0.6092, 0.9924],\n",
      "        [0.6744, 0.2780],\n",
      "        [0.4965, 0.8119]])\n"
     ]
    }
   ],
   "execution_count": 18
  },
  {
   "metadata": {
    "ExecuteTime": {
     "end_time": "2025-01-11T00:50:03.464958Z",
     "start_time": "2025-01-11T00:50:03.462144Z"
    }
   },
   "cell_type": "code",
   "source": [
    "x = torch.zeros(4, 2, dtype=torch.long)\n",
    "print(x)"
   ],
   "id": "e5e23a4f164806a0",
   "outputs": [
    {
     "name": "stdout",
     "output_type": "stream",
     "text": [
      "tensor([[0, 0],\n",
      "        [0, 0],\n",
      "        [0, 0],\n",
      "        [0, 0]])\n"
     ]
    }
   ],
   "execution_count": 19
  },
  {
   "metadata": {
    "ExecuteTime": {
     "end_time": "2025-01-11T00:50:03.479345Z",
     "start_time": "2025-01-11T00:50:03.475407Z"
    }
   },
   "cell_type": "code",
   "source": [
    "x = torch.tensor([3, 2.3])\n",
    "print(x)"
   ],
   "id": "19e13a59b44c54b3",
   "outputs": [
    {
     "name": "stdout",
     "output_type": "stream",
     "text": [
      "tensor([3.0000, 2.3000])\n"
     ]
    }
   ],
   "execution_count": 20
  },
  {
   "metadata": {
    "ExecuteTime": {
     "end_time": "2025-01-11T00:50:03.490025Z",
     "start_time": "2025-01-11T00:50:03.486828Z"
    }
   },
   "cell_type": "code",
   "source": [
    "x = x.new_ones(2, 4, dtype=torch.double)\n",
    "print(x)"
   ],
   "id": "72024969da09915d",
   "outputs": [
    {
     "name": "stdout",
     "output_type": "stream",
     "text": [
      "tensor([[1., 1., 1., 1.],\n",
      "        [1., 1., 1., 1.]], dtype=torch.float64)\n"
     ]
    }
   ],
   "execution_count": 21
  },
  {
   "metadata": {
    "ExecuteTime": {
     "end_time": "2025-01-11T00:50:03.497795Z",
     "start_time": "2025-01-11T00:50:03.494996Z"
    }
   },
   "cell_type": "code",
   "source": [
    "x = torch.randn_like(x, dtype=torch.float)\n",
    "print(x)"
   ],
   "id": "3bfdf29906d419a1",
   "outputs": [
    {
     "name": "stdout",
     "output_type": "stream",
     "text": [
      "tensor([[-0.3540, -1.6643, -1.3765, -0.2849],\n",
      "        [ 1.4816, -0.7689, -0.1774, -1.5032]])\n"
     ]
    }
   ],
   "execution_count": 22
  },
  {
   "metadata": {
    "ExecuteTime": {
     "end_time": "2025-01-11T00:50:03.506577Z",
     "start_time": "2025-01-11T00:50:03.504350Z"
    }
   },
   "cell_type": "code",
   "source": "print(x.size())",
   "id": "fcc0d6b577f201ce",
   "outputs": [
    {
     "name": "stdout",
     "output_type": "stream",
     "text": [
      "torch.Size([2, 4])\n"
     ]
    }
   ],
   "execution_count": 23
  },
  {
   "metadata": {
    "ExecuteTime": {
     "end_time": "2025-01-11T00:50:43.102820Z",
     "start_time": "2025-01-11T00:50:43.100341Z"
    }
   },
   "cell_type": "code",
   "source": [
    "x = torch.rand(1)\n",
    "print(x.item())"
   ],
   "id": "2fa09bcd3ac4fc0b",
   "outputs": [
    {
     "name": "stdout",
     "output_type": "stream",
     "text": [
      "0.5643720030784607\n"
     ]
    }
   ],
   "execution_count": 24
  },
  {
   "metadata": {
    "ExecuteTime": {
     "end_time": "2025-01-11T00:53:22.888919Z",
     "start_time": "2025-01-11T00:53:22.885183Z"
    }
   },
   "cell_type": "code",
   "source": [
    "device = torch.device('cpu')\n",
    "y = torch.ones_like(x, device=device)\n",
    "x = x.to(device)"
   ],
   "id": "e1026e46de72d6b0",
   "outputs": [],
   "execution_count": 26
  },
  {
   "metadata": {
    "ExecuteTime": {
     "end_time": "2025-01-11T00:53:23.791140Z",
     "start_time": "2025-01-11T00:53:23.782478Z"
    }
   },
   "cell_type": "code",
   "source": [
    "print(x)\n",
    "print(y)\n",
    "\n",
    "z = x + y\n",
    "print(z)\n",
    "z.to('cpu', dtype=torch.double)"
   ],
   "id": "8b2a30f1233e9f45",
   "outputs": [
    {
     "name": "stdout",
     "output_type": "stream",
     "text": [
      "tensor([0.5644])\n",
      "tensor([1.])\n",
      "tensor([1.5644])\n"
     ]
    },
    {
     "data": {
      "text/plain": [
       "tensor([1.5644], dtype=torch.float64)"
      ]
     },
     "execution_count": 27,
     "metadata": {},
     "output_type": "execute_result"
    }
   ],
   "execution_count": 27
  },
  {
   "metadata": {
    "ExecuteTime": {
     "end_time": "2025-01-11T00:57:32.367415Z",
     "start_time": "2025-01-11T00:57:32.362373Z"
    }
   },
   "cell_type": "code",
   "source": [
    "t0 = torch.tensor(0)\n",
    "print(t0.ndim)\n",
    "print(t0.shape)\n",
    "print(t0)"
   ],
   "id": "af7544a5bb740f3",
   "outputs": [
    {
     "name": "stdout",
     "output_type": "stream",
     "text": [
      "0\n",
      "torch.Size([])\n",
      "tensor(0)\n"
     ]
    }
   ],
   "execution_count": 28
  },
  {
   "metadata": {
    "ExecuteTime": {
     "end_time": "2025-01-11T00:58:11.068268Z",
     "start_time": "2025-01-11T00:58:11.065859Z"
    }
   },
   "cell_type": "code",
   "source": [
    "t1 = torch.tensor([1,2,3])\n",
    "print(t1.ndim)\n",
    "print(t1.shape)\n",
    "print(t1)"
   ],
   "id": "6de8cc6b8f720b99",
   "outputs": [
    {
     "name": "stdout",
     "output_type": "stream",
     "text": [
      "1\n",
      "torch.Size([3])\n",
      "tensor([1, 2, 3])\n"
     ]
    }
   ],
   "execution_count": 29
  },
  {
   "metadata": {
    "ExecuteTime": {
     "end_time": "2025-01-11T00:59:06.173199Z",
     "start_time": "2025-01-11T00:59:06.170395Z"
    }
   },
   "cell_type": "code",
   "source": [
    "t2 = torch.tensor([[1,2,3], [4,5,6]])\n",
    "print(t2.ndim)\n",
    "print(t2.shape)\n",
    "print(t2)"
   ],
   "id": "5d57cc8079bee59b",
   "outputs": [
    {
     "name": "stdout",
     "output_type": "stream",
     "text": [
      "2\n",
      "torch.Size([2, 3])\n",
      "tensor([[1, 2, 3],\n",
      "        [4, 5, 6]])\n"
     ]
    }
   ],
   "execution_count": 30
  },
  {
   "metadata": {},
   "cell_type": "code",
   "outputs": [],
   "execution_count": null,
   "source": [
    "t3 = torch.tensor([[[1,2,3], [4,5,6], [7,8,9]], [[1,2,3], [4,5,6], [7,8,9]], [[1,2,3], [4,5,6], [7,8,9]]])\n",
    "print(t3.ndim)\n",
    "print(t3.shape)\n",
    "print(t3)"
   ],
   "id": "9861a5a15ef67ef5"
  },
  {
   "metadata": {},
   "cell_type": "markdown",
   "source": [
    "4D Tensor\n",
    "- 컬러이미지 데이터가 대표적인 사례\n",
    "- sample, height, width, channel"
   ],
   "id": "1d709b914782e8e"
  },
  {
   "metadata": {},
   "cell_type": "markdown",
   "source": [
    "5D Tensor\n",
    "- sample, frame, width, height, channel"
   ],
   "id": "c6bb21796c149630"
  },
  {
   "metadata": {
    "ExecuteTime": {
     "end_time": "2025-01-11T01:06:09.581060Z",
     "start_time": "2025-01-11T01:06:09.576372Z"
    }
   },
   "cell_type": "code",
   "source": [
    "import math\n",
    "\n",
    "a = torch.rand(1, 2) * 2 - 1\n",
    "print(a)\n",
    "print(torch.abs(a))\n",
    "print(torch.ceil_(a))\n",
    "print(torch.floor(a))\n",
    "print(torch.clamp(a, -0.5, 0.5))"
   ],
   "id": "c679fb9ab3a5dd75",
   "outputs": [
    {
     "name": "stdout",
     "output_type": "stream",
     "text": [
      "tensor([[ 0.6094, -0.7659]])\n",
      "tensor([[0.6094, 0.7659]])\n",
      "tensor([[1., -0.]])\n",
      "tensor([[1., -0.]])\n",
      "tensor([[0.5000, -0.0000]])\n"
     ]
    }
   ],
   "execution_count": 37
  },
  {
   "metadata": {
    "ExecuteTime": {
     "end_time": "2025-01-11T01:07:37.502789Z",
     "start_time": "2025-01-11T01:07:37.482299Z"
    }
   },
   "cell_type": "code",
   "source": [
    "print(a)\n",
    "print(torch.min(a))\n",
    "print(torch.max(a))\n",
    "print(torch.mean(a))\n",
    "print(torch.std(a))\n",
    "print(torch.prod(a))\n",
    "print(torch.unique(a))"
   ],
   "id": "3de1fc605e2c4615",
   "outputs": [
    {
     "name": "stdout",
     "output_type": "stream",
     "text": [
      "tensor([[1., -0.]])\n",
      "tensor(-0.)\n",
      "tensor(1.)\n",
      "tensor(0.5000)\n",
      "tensor(0.7071)\n",
      "tensor(-0.)\n",
      "tensor([-0., 1.])\n"
     ]
    }
   ],
   "execution_count": 38
  },
  {
   "metadata": {
    "ExecuteTime": {
     "end_time": "2025-01-11T01:10:03.022522Z",
     "start_time": "2025-01-11T01:10:03.017666Z"
    }
   },
   "cell_type": "code",
   "source": [
    "x = torch.randn(2, 2)\n",
    "print(x)\n",
    "print(x.max(dim=0))\n",
    "print(x.max(dim=1))\n",
    "print(torch.argmax(x, dim=0))"
   ],
   "id": "ddc390b85bee409f",
   "outputs": [
    {
     "name": "stdout",
     "output_type": "stream",
     "text": [
      "tensor([[ 2.0503, -0.7806],\n",
      "        [-2.6636, -1.9560]])\n",
      "torch.return_types.max(\n",
      "values=tensor([ 2.0503, -0.7806]),\n",
      "indices=tensor([0, 0]))\n",
      "torch.return_types.max(\n",
      "values=tensor([ 2.0503, -1.9560]),\n",
      "indices=tensor([0, 1]))\n",
      "tensor([0, 0])\n"
     ]
    }
   ],
   "execution_count": 42
  },
  {
   "metadata": {
    "ExecuteTime": {
     "end_time": "2025-01-11T01:11:41.894185Z",
     "start_time": "2025-01-11T01:11:41.891260Z"
    }
   },
   "cell_type": "code",
   "source": [
    "x = torch.randn(2, 2)\n",
    "y = torch.randn(2, 2)"
   ],
   "id": "5e4b118b6f410332",
   "outputs": [],
   "execution_count": 43
  },
  {
   "metadata": {
    "ExecuteTime": {
     "end_time": "2025-01-11T01:12:00.425746Z",
     "start_time": "2025-01-11T01:12:00.419370Z"
    }
   },
   "cell_type": "code",
   "source": [
    "print(torch.add(x, y))\n",
    "print(x + y)"
   ],
   "id": "daae9a7a77cc4ea7",
   "outputs": [
    {
     "name": "stdout",
     "output_type": "stream",
     "text": [
      "tensor([[-1.7302, -1.2362],\n",
      "        [-1.4783,  1.2158]])\n",
      "tensor([[-1.7302, -1.2362],\n",
      "        [-1.4783,  1.2158]])\n"
     ]
    }
   ],
   "execution_count": 44
  },
  {
   "metadata": {
    "ExecuteTime": {
     "end_time": "2025-01-11T01:16:55.474940Z",
     "start_time": "2025-01-11T01:16:55.471192Z"
    }
   },
   "cell_type": "code",
   "source": [
    "z = torch.tensor([\n",
    "    [1,2],\n",
    "    [3,4]\n",
    "])\n",
    "y = torch.tensor([\n",
    "    [1,2],\n",
    "    [3,4]]\n",
    ")\n",
    "print(torch.matmul(z, y))\n",
    "print(z@y)\n"
   ],
   "id": "d8da5bae251d8f65",
   "outputs": [
    {
     "name": "stdout",
     "output_type": "stream",
     "text": [
      "tensor([[ 7, 10],\n",
      "        [15, 22]])\n",
      "tensor([[ 7, 10],\n",
      "        [15, 22]])\n"
     ]
    }
   ],
   "execution_count": 52
  },
  {
   "metadata": {
    "ExecuteTime": {
     "end_time": "2025-01-11T01:18:47.932163Z",
     "start_time": "2025-01-11T01:18:47.928330Z"
    }
   },
   "cell_type": "code",
   "source": [
    "print(z[:, 0])\n",
    "print(z[:, 1])\n",
    "print(z[0, :])\n",
    "print(z[1, :])"
   ],
   "id": "c5423d02812fedfd",
   "outputs": [
    {
     "name": "stdout",
     "output_type": "stream",
     "text": [
      "tensor([1, 3])\n",
      "tensor([2, 4])\n",
      "tensor([1, 2])\n",
      "tensor([3, 4])\n"
     ]
    }
   ],
   "execution_count": 54
  },
  {
   "metadata": {
    "ExecuteTime": {
     "end_time": "2025-01-11T01:20:46.872996Z",
     "start_time": "2025-01-11T01:20:46.869963Z"
    }
   },
   "cell_type": "code",
   "source": [
    "x = torch.randn(4, 5)\n",
    "print(x)\n",
    "y = x.view(20) # flatten\n",
    "print(y)\n",
    "z = x.view(5, -1)\n",
    "print(z)"
   ],
   "id": "28bc7d5d7510a93",
   "outputs": [
    {
     "name": "stdout",
     "output_type": "stream",
     "text": [
      "tensor([[ 1.0712,  0.7506, -0.4227,  0.1923, -0.9132],\n",
      "        [-0.4535, -2.1552, -0.8627,  0.3467,  1.0271],\n",
      "        [-2.0302, -0.9511,  0.4472, -0.2679, -0.7709],\n",
      "        [ 0.2342,  0.0965,  0.7605, -1.4916, -1.5051]])\n",
      "tensor([ 1.0712,  0.7506, -0.4227,  0.1923, -0.9132, -0.4535, -2.1552, -0.8627,\n",
      "         0.3467,  1.0271, -2.0302, -0.9511,  0.4472, -0.2679, -0.7709,  0.2342,\n",
      "         0.0965,  0.7605, -1.4916, -1.5051])\n",
      "tensor([[ 1.0712,  0.7506, -0.4227,  0.1923],\n",
      "        [-0.9132, -0.4535, -2.1552, -0.8627],\n",
      "        [ 0.3467,  1.0271, -2.0302, -0.9511],\n",
      "        [ 0.4472, -0.2679, -0.7709,  0.2342],\n",
      "        [ 0.0965,  0.7605, -1.4916, -1.5051]])\n"
     ]
    }
   ],
   "execution_count": 56
  },
  {
   "metadata": {
    "ExecuteTime": {
     "end_time": "2025-01-11T01:23:16.850832Z",
     "start_time": "2025-01-11T01:23:16.846944Z"
    }
   },
   "cell_type": "code",
   "source": [
    "tensor = torch.randn(1, 3, 3)\n",
    "print(tensor)\n",
    "print(tensor.shape)\n",
    "print(tensor.ndim)"
   ],
   "id": "8f548705a43708a8",
   "outputs": [
    {
     "name": "stdout",
     "output_type": "stream",
     "text": [
      "tensor([[[ 0.3605,  0.0807, -0.0204],\n",
      "         [ 2.0081, -0.5557, -0.3361],\n",
      "         [ 1.4791, -0.9060,  1.1515]]])\n",
      "torch.Size([1, 3, 3])\n",
      "3\n"
     ]
    }
   ],
   "execution_count": 58
  },
  {
   "metadata": {
    "ExecuteTime": {
     "end_time": "2025-01-11T01:23:29.119524Z",
     "start_time": "2025-01-11T01:23:29.115475Z"
    }
   },
   "cell_type": "code",
   "source": [
    "t = tensor.squeeze()\n",
    "print(t)\n",
    "print(t.shape)"
   ],
   "id": "a4dcc8589b99cd36",
   "outputs": [
    {
     "name": "stdout",
     "output_type": "stream",
     "text": [
      "tensor([[ 0.3605,  0.0807, -0.0204],\n",
      "        [ 2.0081, -0.5557, -0.3361],\n",
      "        [ 1.4791, -0.9060,  1.1515]])\n",
      "torch.Size([3, 3])\n"
     ]
    }
   ],
   "execution_count": 59
  },
  {
   "metadata": {
    "ExecuteTime": {
     "end_time": "2025-01-11T01:24:33.834545Z",
     "start_time": "2025-01-11T01:24:33.830079Z"
    }
   },
   "cell_type": "code",
   "source": [
    "t = torch.rand(3,3)\n",
    "print(t)\n",
    "print(t.shape)\n",
    "\n",
    "tensor = t.unsqueeze(dim=0)\n",
    "print(tensor)\n",
    "print(tensor.shape)"
   ],
   "id": "cc7e76783a035ff1",
   "outputs": [
    {
     "name": "stdout",
     "output_type": "stream",
     "text": [
      "tensor([[0.7338, 0.4475, 0.9613],\n",
      "        [0.0238, 0.8801, 0.7849],\n",
      "        [0.9172, 0.1300, 0.2191]])\n",
      "torch.Size([3, 3])\n",
      "tensor([[[0.7338, 0.4475, 0.9613]],\n",
      "\n",
      "        [[0.0238, 0.8801, 0.7849]],\n",
      "\n",
      "        [[0.9172, 0.1300, 0.2191]]])\n",
      "torch.Size([3, 1, 3])\n"
     ]
    }
   ],
   "execution_count": 62
  },
  {
   "metadata": {
    "ExecuteTime": {
     "end_time": "2025-01-11T01:24:50.651967Z",
     "start_time": "2025-01-11T01:24:50.647657Z"
    }
   },
   "cell_type": "code",
   "source": [
    "tensor = t.unsqueeze(dim=2)\n",
    "print(tensor)\n",
    "print(tensor.shape)"
   ],
   "id": "b303c90bd7f56456",
   "outputs": [
    {
     "name": "stdout",
     "output_type": "stream",
     "text": [
      "tensor([[[0.7338],\n",
      "         [0.4475],\n",
      "         [0.9613]],\n",
      "\n",
      "        [[0.0238],\n",
      "         [0.8801],\n",
      "         [0.7849]],\n",
      "\n",
      "        [[0.9172],\n",
      "         [0.1300],\n",
      "         [0.2191]]])\n",
      "torch.Size([3, 3, 1])\n"
     ]
    }
   ],
   "execution_count": 63
  },
  {
   "metadata": {
    "ExecuteTime": {
     "end_time": "2025-01-11T01:27:01.351628Z",
     "start_time": "2025-01-11T01:27:01.348295Z"
    }
   },
   "cell_type": "code",
   "source": [
    "x = torch.FloatTensor([1, 4])\n",
    "print(x)\n",
    "y = torch.LongTensor([2, 5])\n",
    "print(y)\n",
    "z = torch.LongTensor([3, 6])\n",
    "print(z)\n",
    "\n",
    "stacked = torch.stack([x, y, z], dim=0)\n",
    "print(stacked)\n",
    "print(stacked.shape)\n",
    "print(stacked.ndim)"
   ],
   "id": "823642acd18c3e94",
   "outputs": [
    {
     "name": "stdout",
     "output_type": "stream",
     "text": [
      "tensor([1., 4.])\n",
      "tensor([2, 5])\n",
      "tensor([3, 6])\n",
      "tensor([[1., 4.],\n",
      "        [2., 5.],\n",
      "        [3., 6.]])\n",
      "torch.Size([3, 2])\n",
      "2\n"
     ]
    }
   ],
   "execution_count": 69
  },
  {
   "metadata": {
    "ExecuteTime": {
     "end_time": "2025-01-11T01:27:14.923788Z",
     "start_time": "2025-01-11T01:27:14.920575Z"
    }
   },
   "cell_type": "code",
   "source": [
    "stacked = torch.stack([x, y, z], dim=1)\n",
    "print(stacked)\n",
    "print(stacked.shape)\n",
    "print(stacked.ndim)"
   ],
   "id": "2dca384be4438570",
   "outputs": [
    {
     "name": "stdout",
     "output_type": "stream",
     "text": [
      "tensor([[1., 2., 3.],\n",
      "        [4., 5., 6.]])\n",
      "torch.Size([2, 3])\n",
      "2\n"
     ]
    }
   ],
   "execution_count": 70
  },
  {
   "metadata": {
    "ExecuteTime": {
     "end_time": "2025-01-11T01:30:29.580591Z",
     "start_time": "2025-01-11T01:30:29.575314Z"
    }
   },
   "cell_type": "code",
   "source": [
    "tensor = torch.rand(3, 6)\n",
    "print(tensor)\n",
    "\n",
    "t1, t2, t3 = torch.chunk(tensor, chunks=3, dim=1)\n",
    "print(t1)\n",
    "print(t2)\n",
    "print(t3)"
   ],
   "id": "4c4212e0a8d4201b",
   "outputs": [
    {
     "name": "stdout",
     "output_type": "stream",
     "text": [
      "tensor([[0.7247, 0.6910, 0.8462, 0.9675, 0.7412, 0.8887],\n",
      "        [0.6050, 0.8672, 0.5572, 0.0657, 0.0583, 0.1714],\n",
      "        [0.6684, 0.7386, 0.8101, 0.6004, 0.9570, 0.7398]])\n",
      "tensor([[0.7247, 0.6910],\n",
      "        [0.6050, 0.8672],\n",
      "        [0.6684, 0.7386]])\n",
      "tensor([[0.8462, 0.9675],\n",
      "        [0.5572, 0.0657],\n",
      "        [0.8101, 0.6004]])\n",
      "tensor([[0.7412, 0.8887],\n",
      "        [0.0583, 0.1714],\n",
      "        [0.9570, 0.7398]])\n"
     ]
    }
   ],
   "execution_count": 76
  },
  {
   "metadata": {
    "ExecuteTime": {
     "end_time": "2025-01-11T01:30:37.760137Z",
     "start_time": "2025-01-11T01:30:37.757029Z"
    }
   },
   "cell_type": "code",
   "source": [
    "t1, t2, t3 = torch.chunk(tensor, chunks=3, dim=0)\n",
    "print(t1)\n",
    "print(t2)\n",
    "print(t3)"
   ],
   "id": "165093fc69d3f048",
   "outputs": [
    {
     "name": "stdout",
     "output_type": "stream",
     "text": [
      "tensor([[0.7247, 0.6910, 0.8462, 0.9675, 0.7412, 0.8887]])\n",
      "tensor([[0.6050, 0.8672, 0.5572, 0.0657, 0.0583, 0.1714]])\n",
      "tensor([[0.6684, 0.7386, 0.8101, 0.6004, 0.9570, 0.7398]])\n"
     ]
    }
   ],
   "execution_count": 77
  },
  {
   "metadata": {
    "ExecuteTime": {
     "end_time": "2025-01-11T01:34:49.481135Z",
     "start_time": "2025-01-11T01:34:49.473962Z"
    }
   },
   "cell_type": "code",
   "source": [
    "import numpy as np\n",
    "\n",
    "a = np.ones(7)\n",
    "b = torch.from_numpy(a)\n",
    "print(a)\n",
    "print(b)"
   ],
   "id": "5d8ad41937ab7636",
   "outputs": [
    {
     "name": "stdout",
     "output_type": "stream",
     "text": [
      "[1. 1. 1. 1. 1. 1. 1.]\n",
      "tensor([1., 1., 1., 1., 1., 1., 1.], dtype=torch.float64)\n"
     ]
    }
   ],
   "execution_count": 78
  },
  {
   "metadata": {},
   "cell_type": "code",
   "outputs": [],
   "execution_count": null,
   "source": "",
   "id": "c869358b46e57237"
  }
 ],
 "metadata": {
  "kernelspec": {
   "display_name": "Python 3",
   "language": "python",
   "name": "python3"
  },
  "language_info": {
   "codemirror_mode": {
    "name": "ipython",
    "version": 2
   },
   "file_extension": ".py",
   "mimetype": "text/x-python",
   "name": "python",
   "nbconvert_exporter": "python",
   "pygments_lexer": "ipython2",
   "version": "2.7.6"
  }
 },
 "nbformat": 4,
 "nbformat_minor": 5
}
