{
 "cells": [
  {
   "cell_type": "code",
   "execution_count": 29,
   "id": "initial_id",
   "metadata": {
    "ExecuteTime": {
     "end_time": "2025-01-11T00:50:03.413042Z",
     "start_time": "2025-01-11T00:50:03.409831Z"
    },
    "collapsed": true
   },
   "outputs": [
    {
     "data": {
      "text/plain": [
       "'2.0.1+cu117'"
      ]
     },
     "execution_count": 29,
     "metadata": {},
     "output_type": "execute_result"
    }
   ],
   "source": [
    "import torch\n",
    "\n",
    "torch.__version__"
   ]
  },
  {
   "cell_type": "code",
   "execution_count": 30,
   "id": "18675ab87a10d57a",
   "metadata": {
    "ExecuteTime": {
     "end_time": "2025-01-11T00:50:03.427342Z",
     "start_time": "2025-01-11T00:50:03.423965Z"
    }
   },
   "outputs": [
    {
     "name": "stdout",
     "output_type": "stream",
     "text": [
      "tensor([[4.6304e+27, 7.0060e+22],\n",
      "        [1.0647e+24, 1.5766e-19],\n",
      "        [4.7615e+30, 7.1428e+31],\n",
      "        [1.1722e-19, 1.3563e-19]])\n"
     ]
    }
   ],
   "source": [
    "x = torch.empty(4, 2)\n",
    "print(x)"
   ]
  },
  {
   "cell_type": "code",
   "execution_count": 31,
   "id": "8d755caf9a1afe77",
   "metadata": {
    "ExecuteTime": {
     "end_time": "2025-01-11T00:50:03.443518Z",
     "start_time": "2025-01-11T00:50:03.439874Z"
    }
   },
   "outputs": [
    {
     "name": "stdout",
     "output_type": "stream",
     "text": [
      "tensor([[0.1216, 0.5541],\n",
      "        [0.0387, 0.3151],\n",
      "        [0.1011, 0.1397],\n",
      "        [0.2936, 0.2210]])\n"
     ]
    }
   ],
   "source": [
    "x = torch.rand(4, 2)\n",
    "print(x)"
   ]
  },
  {
   "cell_type": "code",
   "execution_count": 32,
   "id": "e5e23a4f164806a0",
   "metadata": {
    "ExecuteTime": {
     "end_time": "2025-01-11T00:50:03.464958Z",
     "start_time": "2025-01-11T00:50:03.462144Z"
    }
   },
   "outputs": [
    {
     "name": "stdout",
     "output_type": "stream",
     "text": [
      "tensor([[0, 0],\n",
      "        [0, 0],\n",
      "        [0, 0],\n",
      "        [0, 0]])\n"
     ]
    }
   ],
   "source": [
    "x = torch.zeros(4, 2, dtype=torch.long)\n",
    "print(x)"
   ]
  },
  {
   "cell_type": "code",
   "execution_count": 33,
   "id": "19e13a59b44c54b3",
   "metadata": {
    "ExecuteTime": {
     "end_time": "2025-01-11T00:50:03.479345Z",
     "start_time": "2025-01-11T00:50:03.475407Z"
    }
   },
   "outputs": [
    {
     "name": "stdout",
     "output_type": "stream",
     "text": [
      "tensor([3.0000, 2.3000])\n"
     ]
    }
   ],
   "source": [
    "x = torch.tensor([3, 2.3])\n",
    "print(x)"
   ]
  },
  {
   "cell_type": "code",
   "execution_count": 34,
   "id": "72024969da09915d",
   "metadata": {
    "ExecuteTime": {
     "end_time": "2025-01-11T00:50:03.490025Z",
     "start_time": "2025-01-11T00:50:03.486828Z"
    }
   },
   "outputs": [
    {
     "name": "stdout",
     "output_type": "stream",
     "text": [
      "tensor([[1., 1., 1., 1.],\n",
      "        [1., 1., 1., 1.]], dtype=torch.float64)\n"
     ]
    }
   ],
   "source": [
    "x = x.new_ones(2, 4, dtype=torch.double)\n",
    "print(x)"
   ]
  },
  {
   "cell_type": "code",
   "execution_count": 35,
   "id": "3bfdf29906d419a1",
   "metadata": {
    "ExecuteTime": {
     "end_time": "2025-01-11T00:50:03.497795Z",
     "start_time": "2025-01-11T00:50:03.494996Z"
    }
   },
   "outputs": [
    {
     "name": "stdout",
     "output_type": "stream",
     "text": [
      "tensor([[-0.0253, -0.4864,  0.3695, -0.3214],\n",
      "        [-1.4707, -1.8049, -0.4769,  0.9904]])\n"
     ]
    }
   ],
   "source": [
    "x = torch.randn_like(x, dtype=torch.float)\n",
    "print(x)"
   ]
  },
  {
   "cell_type": "code",
   "execution_count": 36,
   "id": "fcc0d6b577f201ce",
   "metadata": {
    "ExecuteTime": {
     "end_time": "2025-01-11T00:50:03.506577Z",
     "start_time": "2025-01-11T00:50:03.504350Z"
    }
   },
   "outputs": [
    {
     "name": "stdout",
     "output_type": "stream",
     "text": [
      "torch.Size([2, 4])\n"
     ]
    }
   ],
   "source": [
    "print(x.size())"
   ]
  },
  {
   "cell_type": "code",
   "execution_count": 37,
   "id": "2fa09bcd3ac4fc0b",
   "metadata": {
    "ExecuteTime": {
     "end_time": "2025-01-11T00:50:43.102820Z",
     "start_time": "2025-01-11T00:50:43.100341Z"
    }
   },
   "outputs": [
    {
     "name": "stdout",
     "output_type": "stream",
     "text": [
      "0.8868333101272583\n"
     ]
    }
   ],
   "source": [
    "x = torch.rand(1)\n",
    "print(x.item())"
   ]
  },
  {
   "cell_type": "code",
   "execution_count": 38,
   "id": "e1026e46de72d6b0",
   "metadata": {
    "ExecuteTime": {
     "end_time": "2025-01-11T00:53:22.888919Z",
     "start_time": "2025-01-11T00:53:22.885183Z"
    }
   },
   "outputs": [
    {
     "name": "stdout",
     "output_type": "stream",
     "text": [
      "cuda\n"
     ]
    }
   ],
   "source": [
    "device = torch.device('cuda' if torch.cuda.is_available() else 'cpu')\n",
    "y = torch.ones_like(x, device=device)\n",
    "x = x.to(device)\n",
    "print(device)"
   ]
  },
  {
   "cell_type": "code",
   "execution_count": 39,
   "id": "8b2a30f1233e9f45",
   "metadata": {
    "ExecuteTime": {
     "end_time": "2025-01-11T00:53:23.791140Z",
     "start_time": "2025-01-11T00:53:23.782478Z"
    }
   },
   "outputs": [
    {
     "name": "stdout",
     "output_type": "stream",
     "text": [
      "tensor([0.8868], device='cuda:0')\n",
      "tensor([1.], device='cuda:0')\n",
      "tensor([1.8868], device='cuda:0')\n"
     ]
    },
    {
     "data": {
      "text/plain": [
       "tensor([1.8868], dtype=torch.float64)"
      ]
     },
     "execution_count": 39,
     "metadata": {},
     "output_type": "execute_result"
    }
   ],
   "source": [
    "print(x)\n",
    "print(y)\n",
    "\n",
    "z = x + y\n",
    "print(z)\n",
    "z.to('cpu', dtype=torch.double)"
   ]
  },
  {
   "cell_type": "code",
   "execution_count": 40,
   "id": "af7544a5bb740f3",
   "metadata": {
    "ExecuteTime": {
     "end_time": "2025-01-11T00:57:32.367415Z",
     "start_time": "2025-01-11T00:57:32.362373Z"
    }
   },
   "outputs": [
    {
     "name": "stdout",
     "output_type": "stream",
     "text": [
      "0\n",
      "torch.Size([])\n",
      "tensor(0)\n"
     ]
    }
   ],
   "source": [
    "t0 = torch.tensor(0)\n",
    "print(t0.ndim)\n",
    "print(t0.shape)\n",
    "print(t0)"
   ]
  },
  {
   "cell_type": "code",
   "execution_count": 41,
   "id": "6de8cc6b8f720b99",
   "metadata": {
    "ExecuteTime": {
     "end_time": "2025-01-11T00:58:11.068268Z",
     "start_time": "2025-01-11T00:58:11.065859Z"
    }
   },
   "outputs": [
    {
     "name": "stdout",
     "output_type": "stream",
     "text": [
      "1\n",
      "torch.Size([3])\n",
      "tensor([1, 2, 3])\n"
     ]
    }
   ],
   "source": [
    "t1 = torch.tensor([1,2,3])\n",
    "print(t1.ndim)\n",
    "print(t1.shape)\n",
    "print(t1)"
   ]
  },
  {
   "cell_type": "code",
   "execution_count": 42,
   "id": "5d57cc8079bee59b",
   "metadata": {
    "ExecuteTime": {
     "end_time": "2025-01-11T00:59:06.173199Z",
     "start_time": "2025-01-11T00:59:06.170395Z"
    }
   },
   "outputs": [
    {
     "name": "stdout",
     "output_type": "stream",
     "text": [
      "2\n",
      "torch.Size([2, 3])\n",
      "tensor([[1, 2, 3],\n",
      "        [4, 5, 6]])\n"
     ]
    }
   ],
   "source": [
    "t2 = torch.tensor([[1,2,3], [4,5,6]])\n",
    "print(t2.ndim)\n",
    "print(t2.shape)\n",
    "print(t2)"
   ]
  },
  {
   "cell_type": "code",
   "execution_count": 43,
   "id": "9861a5a15ef67ef5",
   "metadata": {},
   "outputs": [
    {
     "name": "stdout",
     "output_type": "stream",
     "text": [
      "3\n",
      "torch.Size([3, 3, 3])\n",
      "tensor([[[1, 2, 3],\n",
      "         [4, 5, 6],\n",
      "         [7, 8, 9]],\n",
      "\n",
      "        [[1, 2, 3],\n",
      "         [4, 5, 6],\n",
      "         [7, 8, 9]],\n",
      "\n",
      "        [[1, 2, 3],\n",
      "         [4, 5, 6],\n",
      "         [7, 8, 9]]])\n"
     ]
    }
   ],
   "source": [
    "t3 = torch.tensor([[[1,2,3], [4,5,6], [7,8,9]], [[1,2,3], [4,5,6], [7,8,9]], [[1,2,3], [4,5,6], [7,8,9]]])\n",
    "print(t3.ndim)\n",
    "print(t3.shape)\n",
    "print(t3)"
   ]
  },
  {
   "cell_type": "markdown",
   "id": "1d709b914782e8e",
   "metadata": {},
   "source": [
    "4D Tensor\n",
    "- 컬러이미지 데이터가 대표적인 사례\n",
    "- sample, height, width, channel"
   ]
  },
  {
   "cell_type": "markdown",
   "id": "c6bb21796c149630",
   "metadata": {},
   "source": [
    "5D Tensor\n",
    "- sample, frame, width, height, channel"
   ]
  },
  {
   "cell_type": "code",
   "execution_count": 44,
   "id": "c679fb9ab3a5dd75",
   "metadata": {
    "ExecuteTime": {
     "end_time": "2025-01-11T01:06:09.581060Z",
     "start_time": "2025-01-11T01:06:09.576372Z"
    }
   },
   "outputs": [
    {
     "name": "stdout",
     "output_type": "stream",
     "text": [
      "tensor([[-0.0367,  0.4985]])\n",
      "tensor([[0.0367, 0.4985]])\n",
      "tensor([[-0., 1.]])\n",
      "tensor([[-0., 1.]])\n",
      "tensor([[-0.0000, 0.5000]])\n"
     ]
    }
   ],
   "source": [
    "import math\n",
    "\n",
    "a = torch.rand(1, 2) * 2 - 1\n",
    "print(a)\n",
    "print(torch.abs(a))\n",
    "print(torch.ceil_(a))\n",
    "print(torch.floor(a))\n",
    "print(torch.clamp(a, -0.5, 0.5))"
   ]
  },
  {
   "cell_type": "code",
   "execution_count": 45,
   "id": "3de1fc605e2c4615",
   "metadata": {
    "ExecuteTime": {
     "end_time": "2025-01-11T01:07:37.502789Z",
     "start_time": "2025-01-11T01:07:37.482299Z"
    }
   },
   "outputs": [
    {
     "name": "stdout",
     "output_type": "stream",
     "text": [
      "tensor([[-0., 1.]])\n",
      "tensor(-0.)\n",
      "tensor(1.)\n",
      "tensor(0.5000)\n",
      "tensor(0.7071)\n",
      "tensor(-0.)\n",
      "tensor([-0., 1.])\n"
     ]
    }
   ],
   "source": [
    "print(a)\n",
    "print(torch.min(a))\n",
    "print(torch.max(a))\n",
    "print(torch.mean(a))\n",
    "print(torch.std(a))\n",
    "print(torch.prod(a))\n",
    "print(torch.unique(a))"
   ]
  },
  {
   "cell_type": "code",
   "execution_count": 46,
   "id": "ddc390b85bee409f",
   "metadata": {
    "ExecuteTime": {
     "end_time": "2025-01-11T01:10:03.022522Z",
     "start_time": "2025-01-11T01:10:03.017666Z"
    }
   },
   "outputs": [
    {
     "name": "stdout",
     "output_type": "stream",
     "text": [
      "tensor([[ 0.9280, -0.5852],\n",
      "        [ 1.3150,  0.2725]])\n",
      "torch.return_types.max(\n",
      "values=tensor([1.3150, 0.2725]),\n",
      "indices=tensor([1, 1]))\n",
      "torch.return_types.max(\n",
      "values=tensor([0.9280, 1.3150]),\n",
      "indices=tensor([0, 0]))\n",
      "tensor([1, 1])\n"
     ]
    }
   ],
   "source": [
    "x = torch.randn(2, 2)\n",
    "print(x)\n",
    "print(x.max(dim=0))\n",
    "print(x.max(dim=1))\n",
    "print(torch.argmax(x, dim=0))"
   ]
  },
  {
   "cell_type": "code",
   "execution_count": 47,
   "id": "5e4b118b6f410332",
   "metadata": {
    "ExecuteTime": {
     "end_time": "2025-01-11T01:11:41.894185Z",
     "start_time": "2025-01-11T01:11:41.891260Z"
    }
   },
   "outputs": [],
   "source": [
    "x = torch.randn(2, 2)\n",
    "y = torch.randn(2, 2)"
   ]
  },
  {
   "cell_type": "code",
   "execution_count": 48,
   "id": "daae9a7a77cc4ea7",
   "metadata": {
    "ExecuteTime": {
     "end_time": "2025-01-11T01:12:00.425746Z",
     "start_time": "2025-01-11T01:12:00.419370Z"
    }
   },
   "outputs": [
    {
     "name": "stdout",
     "output_type": "stream",
     "text": [
      "tensor([[-1.2550,  0.1054],\n",
      "        [ 0.6988,  1.4256]])\n",
      "tensor([[-1.2550,  0.1054],\n",
      "        [ 0.6988,  1.4256]])\n"
     ]
    }
   ],
   "source": [
    "print(torch.add(x, y))\n",
    "print(x + y)"
   ]
  },
  {
   "cell_type": "code",
   "execution_count": 49,
   "id": "d8da5bae251d8f65",
   "metadata": {
    "ExecuteTime": {
     "end_time": "2025-01-11T01:16:55.474940Z",
     "start_time": "2025-01-11T01:16:55.471192Z"
    }
   },
   "outputs": [
    {
     "name": "stdout",
     "output_type": "stream",
     "text": [
      "tensor([[ 7, 10],\n",
      "        [15, 22]])\n",
      "tensor([[ 7, 10],\n",
      "        [15, 22]])\n"
     ]
    }
   ],
   "source": [
    "z = torch.tensor([\n",
    "    [1,2],\n",
    "    [3,4]\n",
    "])\n",
    "y = torch.tensor([\n",
    "    [1,2],\n",
    "    [3,4]]\n",
    ")\n",
    "print(torch.matmul(z, y))\n",
    "print(z@y)\n"
   ]
  },
  {
   "cell_type": "code",
   "execution_count": 50,
   "id": "c5423d02812fedfd",
   "metadata": {
    "ExecuteTime": {
     "end_time": "2025-01-11T01:18:47.932163Z",
     "start_time": "2025-01-11T01:18:47.928330Z"
    }
   },
   "outputs": [
    {
     "name": "stdout",
     "output_type": "stream",
     "text": [
      "tensor([1, 3])\n",
      "tensor([2, 4])\n",
      "tensor([1, 2])\n",
      "tensor([3, 4])\n"
     ]
    }
   ],
   "source": [
    "print(z[:, 0])\n",
    "print(z[:, 1])\n",
    "print(z[0, :])\n",
    "print(z[1, :])"
   ]
  },
  {
   "cell_type": "code",
   "execution_count": 51,
   "id": "28bc7d5d7510a93",
   "metadata": {
    "ExecuteTime": {
     "end_time": "2025-01-11T01:20:46.872996Z",
     "start_time": "2025-01-11T01:20:46.869963Z"
    }
   },
   "outputs": [
    {
     "name": "stdout",
     "output_type": "stream",
     "text": [
      "tensor([[-1.4567, -0.3650,  1.0080, -2.7401, -1.3023],\n",
      "        [-0.7538, -0.4551,  0.2776, -0.8538, -1.7445],\n",
      "        [ 0.0840,  0.1661, -0.6834, -0.9611,  0.0672],\n",
      "        [-1.5194,  0.0048, -1.4848, -0.9803, -1.5853]])\n",
      "tensor([-1.4567, -0.3650,  1.0080, -2.7401, -1.3023, -0.7538, -0.4551,  0.2776,\n",
      "        -0.8538, -1.7445,  0.0840,  0.1661, -0.6834, -0.9611,  0.0672, -1.5194,\n",
      "         0.0048, -1.4848, -0.9803, -1.5853])\n",
      "tensor([[-1.4567, -0.3650,  1.0080, -2.7401],\n",
      "        [-1.3023, -0.7538, -0.4551,  0.2776],\n",
      "        [-0.8538, -1.7445,  0.0840,  0.1661],\n",
      "        [-0.6834, -0.9611,  0.0672, -1.5194],\n",
      "        [ 0.0048, -1.4848, -0.9803, -1.5853]])\n"
     ]
    }
   ],
   "source": [
    "x = torch.randn(4, 5)\n",
    "print(x)\n",
    "y = x.view(20) # flatten\n",
    "print(y)\n",
    "z = x.view(5, -1)\n",
    "print(z)"
   ]
  },
  {
   "cell_type": "code",
   "execution_count": 52,
   "id": "8f548705a43708a8",
   "metadata": {
    "ExecuteTime": {
     "end_time": "2025-01-11T01:23:16.850832Z",
     "start_time": "2025-01-11T01:23:16.846944Z"
    }
   },
   "outputs": [
    {
     "name": "stdout",
     "output_type": "stream",
     "text": [
      "tensor([[[ 2.0194,  0.0455, -0.0996],\n",
      "         [ 0.2398,  0.4374,  0.2845],\n",
      "         [-1.6796, -1.2840,  0.9352]]])\n",
      "torch.Size([1, 3, 3])\n",
      "3\n"
     ]
    }
   ],
   "source": [
    "tensor = torch.randn(1, 3, 3)\n",
    "print(tensor)\n",
    "print(tensor.shape)\n",
    "print(tensor.ndim)"
   ]
  },
  {
   "cell_type": "code",
   "execution_count": 53,
   "id": "a4dcc8589b99cd36",
   "metadata": {
    "ExecuteTime": {
     "end_time": "2025-01-11T01:23:29.119524Z",
     "start_time": "2025-01-11T01:23:29.115475Z"
    }
   },
   "outputs": [
    {
     "name": "stdout",
     "output_type": "stream",
     "text": [
      "tensor([[ 2.0194,  0.0455, -0.0996],\n",
      "        [ 0.2398,  0.4374,  0.2845],\n",
      "        [-1.6796, -1.2840,  0.9352]])\n",
      "torch.Size([3, 3])\n"
     ]
    }
   ],
   "source": [
    "t = tensor.squeeze()\n",
    "print(t)\n",
    "print(t.shape)"
   ]
  },
  {
   "cell_type": "code",
   "execution_count": 54,
   "id": "cc7e76783a035ff1",
   "metadata": {
    "ExecuteTime": {
     "end_time": "2025-01-11T01:24:33.834545Z",
     "start_time": "2025-01-11T01:24:33.830079Z"
    }
   },
   "outputs": [
    {
     "name": "stdout",
     "output_type": "stream",
     "text": [
      "tensor([[0.0546, 0.4690, 0.1319],\n",
      "        [0.8844, 0.3616, 0.3511],\n",
      "        [0.3630, 0.8815, 0.7367]])\n",
      "torch.Size([3, 3])\n",
      "tensor([[[0.0546, 0.4690, 0.1319],\n",
      "         [0.8844, 0.3616, 0.3511],\n",
      "         [0.3630, 0.8815, 0.7367]]])\n",
      "torch.Size([1, 3, 3])\n"
     ]
    }
   ],
   "source": [
    "t = torch.rand(3,3)\n",
    "print(t)\n",
    "print(t.shape)\n",
    "\n",
    "tensor = t.unsqueeze(dim=0)\n",
    "print(tensor)\n",
    "print(tensor.shape)"
   ]
  },
  {
   "cell_type": "code",
   "execution_count": 55,
   "id": "b303c90bd7f56456",
   "metadata": {
    "ExecuteTime": {
     "end_time": "2025-01-11T01:24:50.651967Z",
     "start_time": "2025-01-11T01:24:50.647657Z"
    }
   },
   "outputs": [
    {
     "name": "stdout",
     "output_type": "stream",
     "text": [
      "tensor([[[0.0546],\n",
      "         [0.4690],\n",
      "         [0.1319]],\n",
      "\n",
      "        [[0.8844],\n",
      "         [0.3616],\n",
      "         [0.3511]],\n",
      "\n",
      "        [[0.3630],\n",
      "         [0.8815],\n",
      "         [0.7367]]])\n",
      "torch.Size([3, 3, 1])\n"
     ]
    }
   ],
   "source": [
    "tensor = t.unsqueeze(dim=2)\n",
    "print(tensor)\n",
    "print(tensor.shape)"
   ]
  },
  {
   "cell_type": "code",
   "execution_count": 56,
   "id": "823642acd18c3e94",
   "metadata": {
    "ExecuteTime": {
     "end_time": "2025-01-11T01:27:01.351628Z",
     "start_time": "2025-01-11T01:27:01.348295Z"
    }
   },
   "outputs": [
    {
     "name": "stdout",
     "output_type": "stream",
     "text": [
      "tensor([1., 4.])\n",
      "tensor([2, 5])\n",
      "tensor([3, 6])\n",
      "tensor([[1., 4.],\n",
      "        [2., 5.],\n",
      "        [3., 6.]])\n",
      "torch.Size([3, 2])\n",
      "2\n"
     ]
    }
   ],
   "source": [
    "x = torch.FloatTensor([1, 4])\n",
    "print(x)\n",
    "y = torch.LongTensor([2, 5])\n",
    "print(y)\n",
    "z = torch.LongTensor([3, 6])\n",
    "print(z)\n",
    "\n",
    "stacked = torch.stack([x, y, z], dim=0)\n",
    "print(stacked)\n",
    "print(stacked.shape)\n",
    "print(stacked.ndim)"
   ]
  },
  {
   "cell_type": "code",
   "execution_count": 57,
   "id": "2dca384be4438570",
   "metadata": {
    "ExecuteTime": {
     "end_time": "2025-01-11T01:27:14.923788Z",
     "start_time": "2025-01-11T01:27:14.920575Z"
    }
   },
   "outputs": [
    {
     "name": "stdout",
     "output_type": "stream",
     "text": [
      "tensor([[1., 2., 3.],\n",
      "        [4., 5., 6.]])\n",
      "torch.Size([2, 3])\n",
      "2\n"
     ]
    }
   ],
   "source": [
    "stacked = torch.stack([x, y, z], dim=1)\n",
    "print(stacked)\n",
    "print(stacked.shape)\n",
    "print(stacked.ndim)"
   ]
  },
  {
   "cell_type": "code",
   "execution_count": 58,
   "id": "4c4212e0a8d4201b",
   "metadata": {
    "ExecuteTime": {
     "end_time": "2025-01-11T01:30:29.580591Z",
     "start_time": "2025-01-11T01:30:29.575314Z"
    }
   },
   "outputs": [
    {
     "name": "stdout",
     "output_type": "stream",
     "text": [
      "tensor([[0.8020, 0.0220, 0.3365, 0.3837, 0.3087, 0.7031],\n",
      "        [0.0376, 0.3953, 0.5414, 0.5894, 0.0559, 0.8894],\n",
      "        [0.2571, 0.6950, 0.4598, 0.5621, 0.5508, 0.2570]])\n",
      "tensor([[0.8020, 0.0220],\n",
      "        [0.0376, 0.3953],\n",
      "        [0.2571, 0.6950]])\n",
      "tensor([[0.3365, 0.3837],\n",
      "        [0.5414, 0.5894],\n",
      "        [0.4598, 0.5621]])\n",
      "tensor([[0.3087, 0.7031],\n",
      "        [0.0559, 0.8894],\n",
      "        [0.5508, 0.2570]])\n"
     ]
    }
   ],
   "source": [
    "tensor = torch.rand(3, 6)\n",
    "print(tensor)\n",
    "\n",
    "t1, t2, t3 = torch.chunk(tensor, chunks=3, dim=1)\n",
    "print(t1)\n",
    "print(t2)\n",
    "print(t3)"
   ]
  },
  {
   "cell_type": "code",
   "execution_count": 59,
   "id": "165093fc69d3f048",
   "metadata": {
    "ExecuteTime": {
     "end_time": "2025-01-11T01:30:37.760137Z",
     "start_time": "2025-01-11T01:30:37.757029Z"
    }
   },
   "outputs": [
    {
     "name": "stdout",
     "output_type": "stream",
     "text": [
      "tensor([[0.8020, 0.0220, 0.3365, 0.3837, 0.3087, 0.7031]])\n",
      "tensor([[0.0376, 0.3953, 0.5414, 0.5894, 0.0559, 0.8894]])\n",
      "tensor([[0.2571, 0.6950, 0.4598, 0.5621, 0.5508, 0.2570]])\n"
     ]
    }
   ],
   "source": [
    "t1, t2, t3 = torch.chunk(tensor, chunks=3, dim=0)\n",
    "print(t1)\n",
    "print(t2)\n",
    "print(t3)"
   ]
  },
  {
   "cell_type": "code",
   "execution_count": 60,
   "id": "5d8ad41937ab7636",
   "metadata": {
    "ExecuteTime": {
     "end_time": "2025-01-11T01:34:49.481135Z",
     "start_time": "2025-01-11T01:34:49.473962Z"
    }
   },
   "outputs": [
    {
     "name": "stdout",
     "output_type": "stream",
     "text": [
      "[1. 1. 1. 1. 1. 1. 1.]\n",
      "tensor([1., 1., 1., 1., 1., 1., 1.], dtype=torch.float64)\n"
     ]
    }
   ],
   "source": [
    "import numpy as np\n",
    "\n",
    "a = np.ones(7)\n",
    "b = torch.from_numpy(a)\n",
    "print(a)\n",
    "print(b)"
   ]
  },
  {
   "cell_type": "code",
   "execution_count": 61,
   "id": "c869358b46e57237",
   "metadata": {
    "ExecuteTime": {
     "end_time": "2025-01-11T01:38:03.882526Z",
     "start_time": "2025-01-11T01:38:03.876460Z"
    }
   },
   "outputs": [
    {
     "name": "stdout",
     "output_type": "stream",
     "text": [
      "tensor([[-2.1314, -2.3045,  2.6847],\n",
      "        [-3.9056, -1.7610, -6.9829],\n",
      "        [-0.5936,  1.3713, -1.2184]])\n",
      "False\n"
     ]
    }
   ],
   "source": [
    "a = torch.randn(3, 3)\n",
    "a = a * 3\n",
    "print(a)\n",
    "print(a.requires_grad)"
   ]
  },
  {
   "cell_type": "code",
   "execution_count": 62,
   "id": "88496cd392a7c6a8",
   "metadata": {
    "ExecuteTime": {
     "end_time": "2025-01-11T01:38:47.188458Z",
     "start_time": "2025-01-11T01:38:47.186038Z"
    }
   },
   "outputs": [
    {
     "name": "stdout",
     "output_type": "stream",
     "text": [
      "True\n"
     ]
    }
   ],
   "source": [
    "a.requires_grad_(True)\n",
    "print(a.requires_grad)"
   ]
  },
  {
   "cell_type": "code",
   "execution_count": 63,
   "id": "b355935909f00748",
   "metadata": {
    "ExecuteTime": {
     "end_time": "2025-01-11T01:39:22.034438Z",
     "start_time": "2025-01-11T01:39:22.031504Z"
    }
   },
   "outputs": [
    {
     "name": "stdout",
     "output_type": "stream",
     "text": [
      "tensor(87.8943, grad_fn=<SumBackward0>)\n",
      "<SumBackward0 object at 0x7c0a0c72fc40>\n"
     ]
    }
   ],
   "source": [
    "b = (a * a).sum()\n",
    "print(b)\n",
    "print(b.grad_fn)"
   ]
  },
  {
   "cell_type": "code",
   "execution_count": 64,
   "id": "f42b0ee2",
   "metadata": {},
   "outputs": [
    {
     "name": "stdout",
     "output_type": "stream",
     "text": [
      "tensor([[1., 1., 1.],\n",
      "        [1., 1., 1.],\n",
      "        [1., 1., 1.]], requires_grad=True)\n"
     ]
    }
   ],
   "source": [
    "x = torch.ones(3, 3, requires_grad=True)\n",
    "print(x)"
   ]
  },
  {
   "cell_type": "code",
   "execution_count": 65,
   "id": "7b6f8409",
   "metadata": {},
   "outputs": [
    {
     "name": "stdout",
     "output_type": "stream",
     "text": [
      "tensor([[6., 6., 6.],\n",
      "        [6., 6., 6.],\n",
      "        [6., 6., 6.]], grad_fn=<AddBackward0>)\n"
     ]
    }
   ],
   "source": [
    "y = x + 5\n",
    "print(y)"
   ]
  },
  {
   "cell_type": "code",
   "execution_count": 66,
   "id": "69f0f124",
   "metadata": {},
   "outputs": [
    {
     "name": "stdout",
     "output_type": "stream",
     "text": [
      "tensor([[36., 36., 36.],\n",
      "        [36., 36., 36.],\n",
      "        [36., 36., 36.]], grad_fn=<MulBackward0>) tensor(36., grad_fn=<MeanBackward0>)\n"
     ]
    }
   ],
   "source": [
    "z = y * y\n",
    "out = z.mean()\n",
    "print(z, out)"
   ]
  },
  {
   "cell_type": "code",
   "execution_count": null,
   "id": "4d7b1ebc",
   "metadata": {},
   "outputs": [
    {
     "name": "stdout",
     "output_type": "stream",
     "text": [
      "tensor(36., grad_fn=<MeanBackward0>)\n"
     ]
    },
    {
     "ename": "RuntimeError",
     "evalue": "Trying to backward through the graph a second time (or directly access saved tensors after they have already been freed). Saved intermediate values of the graph are freed when you call .backward() or autograd.grad(). Specify retain_graph=True if you need to backward through the graph a second time or if you need to access saved tensors after calling backward.",
     "output_type": "error",
     "traceback": [
      "\u001b[0;31m---------------------------------------------------------------------------\u001b[0m",
      "\u001b[0;31mRuntimeError\u001b[0m                              Traceback (most recent call last)",
      "Cell \u001b[0;32mIn[68], line 2\u001b[0m\n\u001b[1;32m      1\u001b[0m \u001b[38;5;28mprint\u001b[39m(out)\n\u001b[0;32m----> 2\u001b[0m \u001b[38;5;28mprint\u001b[39m(\u001b[43mout\u001b[49m\u001b[38;5;241;43m.\u001b[39;49m\u001b[43mbackward\u001b[49m\u001b[43m(\u001b[49m\u001b[43m)\u001b[49m)\n",
      "File \u001b[0;32m~/install-pytorch/torch-cuda/lib/python3.10/site-packages/torch/_tensor.py:487\u001b[0m, in \u001b[0;36mTensor.backward\u001b[0;34m(self, gradient, retain_graph, create_graph, inputs)\u001b[0m\n\u001b[1;32m    477\u001b[0m \u001b[38;5;28;01mif\u001b[39;00m has_torch_function_unary(\u001b[38;5;28mself\u001b[39m):\n\u001b[1;32m    478\u001b[0m     \u001b[38;5;28;01mreturn\u001b[39;00m handle_torch_function(\n\u001b[1;32m    479\u001b[0m         Tensor\u001b[38;5;241m.\u001b[39mbackward,\n\u001b[1;32m    480\u001b[0m         (\u001b[38;5;28mself\u001b[39m,),\n\u001b[0;32m   (...)\u001b[0m\n\u001b[1;32m    485\u001b[0m         inputs\u001b[38;5;241m=\u001b[39minputs,\n\u001b[1;32m    486\u001b[0m     )\n\u001b[0;32m--> 487\u001b[0m \u001b[43mtorch\u001b[49m\u001b[38;5;241;43m.\u001b[39;49m\u001b[43mautograd\u001b[49m\u001b[38;5;241;43m.\u001b[39;49m\u001b[43mbackward\u001b[49m\u001b[43m(\u001b[49m\n\u001b[1;32m    488\u001b[0m \u001b[43m    \u001b[49m\u001b[38;5;28;43mself\u001b[39;49m\u001b[43m,\u001b[49m\u001b[43m \u001b[49m\u001b[43mgradient\u001b[49m\u001b[43m,\u001b[49m\u001b[43m \u001b[49m\u001b[43mretain_graph\u001b[49m\u001b[43m,\u001b[49m\u001b[43m \u001b[49m\u001b[43mcreate_graph\u001b[49m\u001b[43m,\u001b[49m\u001b[43m \u001b[49m\u001b[43minputs\u001b[49m\u001b[38;5;241;43m=\u001b[39;49m\u001b[43minputs\u001b[49m\n\u001b[1;32m    489\u001b[0m \u001b[43m\u001b[49m\u001b[43m)\u001b[49m\n",
      "File \u001b[0;32m~/install-pytorch/torch-cuda/lib/python3.10/site-packages/torch/autograd/__init__.py:200\u001b[0m, in \u001b[0;36mbackward\u001b[0;34m(tensors, grad_tensors, retain_graph, create_graph, grad_variables, inputs)\u001b[0m\n\u001b[1;32m    195\u001b[0m     retain_graph \u001b[38;5;241m=\u001b[39m create_graph\n\u001b[1;32m    197\u001b[0m \u001b[38;5;66;03m# The reason we repeat same the comment below is that\u001b[39;00m\n\u001b[1;32m    198\u001b[0m \u001b[38;5;66;03m# some Python versions print out the first line of a multi-line function\u001b[39;00m\n\u001b[1;32m    199\u001b[0m \u001b[38;5;66;03m# calls in the traceback and some print out the last line\u001b[39;00m\n\u001b[0;32m--> 200\u001b[0m \u001b[43mVariable\u001b[49m\u001b[38;5;241;43m.\u001b[39;49m\u001b[43m_execution_engine\u001b[49m\u001b[38;5;241;43m.\u001b[39;49m\u001b[43mrun_backward\u001b[49m\u001b[43m(\u001b[49m\u001b[43m  \u001b[49m\u001b[38;5;66;43;03m# Calls into the C++ engine to run the backward pass\u001b[39;49;00m\n\u001b[1;32m    201\u001b[0m \u001b[43m    \u001b[49m\u001b[43mtensors\u001b[49m\u001b[43m,\u001b[49m\u001b[43m \u001b[49m\u001b[43mgrad_tensors_\u001b[49m\u001b[43m,\u001b[49m\u001b[43m \u001b[49m\u001b[43mretain_graph\u001b[49m\u001b[43m,\u001b[49m\u001b[43m \u001b[49m\u001b[43mcreate_graph\u001b[49m\u001b[43m,\u001b[49m\u001b[43m \u001b[49m\u001b[43minputs\u001b[49m\u001b[43m,\u001b[49m\n\u001b[1;32m    202\u001b[0m \u001b[43m    \u001b[49m\u001b[43mallow_unreachable\u001b[49m\u001b[38;5;241;43m=\u001b[39;49m\u001b[38;5;28;43;01mTrue\u001b[39;49;00m\u001b[43m,\u001b[49m\u001b[43m \u001b[49m\u001b[43maccumulate_grad\u001b[49m\u001b[38;5;241;43m=\u001b[39;49m\u001b[38;5;28;43;01mTrue\u001b[39;49;00m\u001b[43m)\u001b[49m\n",
      "\u001b[0;31mRuntimeError\u001b[0m: Trying to backward through the graph a second time (or directly access saved tensors after they have already been freed). Saved intermediate values of the graph are freed when you call .backward() or autograd.grad(). Specify retain_graph=True if you need to backward through the graph a second time or if you need to access saved tensors after calling backward."
     ]
    }
   ],
   "source": [
    "print(out)\n",
    "print(out.backward())"
   ]
  },
  {
   "cell_type": "code",
   "execution_count": 69,
   "id": "5de70e94",
   "metadata": {},
   "outputs": [
    {
     "name": "stdout",
     "output_type": "stream",
     "text": [
      "tensor([[1., 1., 1.],\n",
      "        [1., 1., 1.],\n",
      "        [1., 1., 1.]], requires_grad=True)\n",
      "tensor([[1.3333, 1.3333, 1.3333],\n",
      "        [1.3333, 1.3333, 1.3333],\n",
      "        [1.3333, 1.3333, 1.3333]])\n"
     ]
    }
   ],
   "source": [
    "print(x)\n",
    "print(x.grad)"
   ]
  },
  {
   "cell_type": "code",
   "execution_count": 70,
   "id": "9598e6c3",
   "metadata": {},
   "outputs": [
    {
     "name": "stdout",
     "output_type": "stream",
     "text": [
      "[[ 0.36560136 -0.8910513 ]\n",
      " [ 0.33887037 -0.45836467]\n",
      " [ 0.66258813 -0.84836346]\n",
      " [-0.25573364  0.87506508]\n",
      " [-0.61975925  0.92177587]\n",
      " [-0.79255545  0.82191339]\n",
      " [-0.89355721 -0.80998065]\n",
      " [-0.02675543 -0.02471064]\n",
      " [ 0.56413818 -0.70014696]\n",
      " [-0.15270576  0.668095  ]]\n"
     ]
    }
   ],
   "source": [
    "x = np.random.randn(10, 2)\n",
    "print(x)"
   ]
  },
  {
   "cell_type": "code",
   "execution_count": 75,
   "id": "6fef19d4",
   "metadata": {},
   "outputs": [
    {
     "name": "stdout",
     "output_type": "stream",
     "text": [
      "tensor([[1., 1.],\n",
      "        [1., 1.]], requires_grad=True)\n",
      "tensor([[3., 3.],\n",
      "        [3., 3.]], grad_fn=<AddBackward0>)\n",
      "tensor([[3., 3.],\n",
      "        [3., 3.]])\n",
      "tensor([[9., 9.],\n",
      "        [9., 9.]], grad_fn=<PowBackward0>)\n",
      "tensor([[9., 9.],\n",
      "        [9., 9.]])\n",
      "tensor(36., grad_fn=<SumBackward0>)\n"
     ]
    }
   ],
   "source": [
    "a = torch.ones(2, 2, requires_grad=True)\n",
    "print(a)\n",
    "\n",
    "b = a + 2\n",
    "print(b)\n",
    "\n",
    "z = b.detach()\n",
    "print(z)\n",
    "\n",
    "c = b ** 2\n",
    "print(c)\n",
    "\n",
    "_c = c.detach()\n",
    "print(_c)\n",
    "\n",
    "out = c.sum()\n",
    "print(out)\n",
    "\n",
    "out.backward()"
   ]
  }
 ],
 "metadata": {
  "kernelspec": {
   "display_name": "Python 3",
   "language": "python",
   "name": "python3"
  },
  "language_info": {
   "codemirror_mode": {
    "name": "ipython",
    "version": 2
   },
   "file_extension": ".py",
   "mimetype": "text/x-python",
   "name": "python",
   "nbconvert_exporter": "python",
   "pygments_lexer": "ipython2",
   "version": "2.7.6"
  }
 },
 "nbformat": 4,
 "nbformat_minor": 5
}
