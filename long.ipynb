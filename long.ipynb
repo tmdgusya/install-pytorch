{
 "cells": [
  {
   "cell_type": "code",
   "id": "initial_id",
   "metadata": {
    "collapsed": true,
    "ExecuteTime": {
     "end_time": "2025-01-10T03:35:33.434751Z",
     "start_time": "2025-01-10T03:35:32.014771Z"
    }
   },
   "source": [
    "import torch\n",
    "\n",
    "torch.__version__"
   ],
   "outputs": [
    {
     "data": {
      "text/plain": [
       "'2.5.1'"
      ]
     },
     "execution_count": 1,
     "metadata": {},
     "output_type": "execute_result"
    }
   ],
   "execution_count": 1
  },
  {
   "metadata": {
    "ExecuteTime": {
     "end_time": "2025-01-10T03:37:24.182031Z",
     "start_time": "2025-01-10T03:37:24.179747Z"
    }
   },
   "cell_type": "code",
   "source": [
    "x = torch.empty(4, 2)\n",
    "print(x)"
   ],
   "id": "18675ab87a10d57a",
   "outputs": [
    {
     "name": "stdout",
     "output_type": "stream",
     "text": [
      "tensor([[0., 0.],\n",
      "        [0., 0.],\n",
      "        [0., 0.],\n",
      "        [0., 0.]])\n"
     ]
    }
   ],
   "execution_count": 5
  },
  {
   "metadata": {
    "ExecuteTime": {
     "end_time": "2025-01-10T03:37:50.660776Z",
     "start_time": "2025-01-10T03:37:50.641030Z"
    }
   },
   "cell_type": "code",
   "source": [
    "x = torch.rand(4, 2)\n",
    "print(x)"
   ],
   "id": "8d755caf9a1afe77",
   "outputs": [
    {
     "name": "stdout",
     "output_type": "stream",
     "text": [
      "tensor([[0.2977, 0.7202],\n",
      "        [0.8380, 0.5313],\n",
      "        [0.2744, 0.1910],\n",
      "        [0.5458, 0.5265]])\n"
     ]
    }
   ],
   "execution_count": 6
  },
  {
   "metadata": {
    "ExecuteTime": {
     "end_time": "2025-01-10T03:38:19.503667Z",
     "start_time": "2025-01-10T03:38:19.483051Z"
    }
   },
   "cell_type": "code",
   "source": [
    "x = torch.zeros(4, 2, dtype=torch.long)\n",
    "print(x)"
   ],
   "id": "e5e23a4f164806a0",
   "outputs": [
    {
     "name": "stdout",
     "output_type": "stream",
     "text": [
      "tensor([[0, 0],\n",
      "        [0, 0],\n",
      "        [0, 0],\n",
      "        [0, 0]])\n"
     ]
    }
   ],
   "execution_count": 8
  },
  {
   "metadata": {
    "ExecuteTime": {
     "end_time": "2025-01-10T03:39:03.343404Z",
     "start_time": "2025-01-10T03:39:03.296701Z"
    }
   },
   "cell_type": "code",
   "source": [
    "x = torch.tensor([3, 2.3])\n",
    "print(x)"
   ],
   "id": "19e13a59b44c54b3",
   "outputs": [
    {
     "name": "stdout",
     "output_type": "stream",
     "text": [
      "tensor([3.0000, 2.3000])\n"
     ]
    }
   ],
   "execution_count": 9
  },
  {
   "metadata": {
    "ExecuteTime": {
     "end_time": "2025-01-10T03:40:26.338023Z",
     "start_time": "2025-01-10T03:40:26.322377Z"
    }
   },
   "cell_type": "code",
   "source": [
    "x = x.new_ones(2, 4, dtype=torch.double)\n",
    "print(x)"
   ],
   "id": "72024969da09915d",
   "outputs": [
    {
     "name": "stdout",
     "output_type": "stream",
     "text": [
      "tensor([[1., 1., 1., 1.],\n",
      "        [1., 1., 1., 1.]], dtype=torch.float64)\n"
     ]
    }
   ],
   "execution_count": 11
  },
  {
   "metadata": {
    "ExecuteTime": {
     "end_time": "2025-01-10T03:41:08.427621Z",
     "start_time": "2025-01-10T03:41:08.414931Z"
    }
   },
   "cell_type": "code",
   "source": [
    "x = torch.randn_like(x, dtype=torch.float)\n",
    "print(x)"
   ],
   "id": "3bfdf29906d419a1",
   "outputs": [
    {
     "name": "stdout",
     "output_type": "stream",
     "text": [
      "tensor([[-1.3050,  0.3618,  0.5519, -1.9478],\n",
      "        [-0.2771,  0.5817, -0.7308, -0.2336]])\n"
     ]
    }
   ],
   "execution_count": 12
  },
  {
   "metadata": {
    "ExecuteTime": {
     "end_time": "2025-01-10T03:41:48.620295Z",
     "start_time": "2025-01-10T03:41:48.603287Z"
    }
   },
   "cell_type": "code",
   "source": "print(x.size())",
   "id": "fcc0d6b577f201ce",
   "outputs": [
    {
     "name": "stdout",
     "output_type": "stream",
     "text": [
      "torch.Size([2, 4])\n"
     ]
    }
   ],
   "execution_count": 14
  },
  {
   "metadata": {},
   "cell_type": "code",
   "outputs": [],
   "execution_count": null,
   "source": "",
   "id": "2fa09bcd3ac4fc0b"
  }
 ],
 "metadata": {
  "kernelspec": {
   "display_name": "Python 3",
   "language": "python",
   "name": "python3"
  },
  "language_info": {
   "codemirror_mode": {
    "name": "ipython",
    "version": 2
   },
   "file_extension": ".py",
   "mimetype": "text/x-python",
   "name": "python",
   "nbconvert_exporter": "python",
   "pygments_lexer": "ipython2",
   "version": "2.7.6"
  }
 },
 "nbformat": 4,
 "nbformat_minor": 5
}
