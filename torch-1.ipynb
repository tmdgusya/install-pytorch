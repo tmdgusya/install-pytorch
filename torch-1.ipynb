{
 "cells": [
  {
   "cell_type": "code",
   "id": "initial_id",
   "metadata": {
    "collapsed": true,
    "ExecuteTime": {
     "end_time": "2025-01-08T02:22:11.173753Z",
     "start_time": "2025-01-08T02:22:11.153448Z"
    }
   },
   "source": [
    "import torch\n",
    "\n",
    "a = torch.tensor([1, 2, 3, 4])\n",
    "print(a)\n",
    "print(type(a))\n",
    "print(a.dtype)\n",
    "print(a.shape)\n",
    "b = torch.tensor([1, 2, 3.1, 4])\n",
    "print(b.dtype)\n",
    "print(b)"
   ],
   "outputs": [
    {
     "name": "stdout",
     "output_type": "stream",
     "text": [
      "tensor([1, 2, 3, 4])\n",
      "<class 'torch.Tensor'>\n",
      "torch.int64\n",
      "torch.Size([4])\n",
      "torch.float32\n",
      "tensor([1.0000, 2.0000, 3.1000, 4.0000])\n"
     ]
    }
   ],
   "execution_count": 2
  },
  {
   "metadata": {
    "ExecuteTime": {
     "end_time": "2025-01-08T02:23:03.101164Z",
     "start_time": "2025-01-08T02:23:03.093403Z"
    }
   },
   "cell_type": "code",
   "source": [
    "A = torch.tensor([[1, 2, 3], [4, 5, 6]])\n",
    "print(A)\n",
    "print(A.shape)\n",
    "print(A.ndim) # 차원의 수\n",
    "print(A.numel()) # 전체 행렬의 수"
   ],
   "id": "79d2a7e1a2fdd9a0",
   "outputs": [
    {
     "name": "stdout",
     "output_type": "stream",
     "text": [
      "tensor([[1, 2, 3],\n",
      "        [4, 5, 6]])\n",
      "torch.Size([2, 3])\n",
      "2\n",
      "6\n"
     ]
    }
   ],
   "execution_count": 3
  },
  {
   "metadata": {
    "ExecuteTime": {
     "end_time": "2025-01-08T02:26:58.526118Z",
     "start_time": "2025-01-08T02:26:58.521383Z"
    }
   },
   "cell_type": "code",
   "source": [
    "print(torch.zeros(3, 4))\n",
    "print(torch.zeros_like(A))\n",
    "print(torch.arange(1, 10, 3))\n",
    "print(torch.linspace(0, 1, 10)) # linearspace 0~1 까지 10개 만들어줘"
   ],
   "id": "175da473f5e35612",
   "outputs": [
    {
     "name": "stdout",
     "output_type": "stream",
     "text": [
      "tensor([[0., 0., 0., 0.],\n",
      "        [0., 0., 0., 0.],\n",
      "        [0., 0., 0., 0.]])\n",
      "tensor([[0, 0, 0],\n",
      "        [0, 0, 0]])\n",
      "tensor([1, 4, 7])\n",
      "tensor([0.0000, 0.1111, 0.2222, 0.3333, 0.4444, 0.5556, 0.6667, 0.7778, 0.8889,\n",
      "        1.0000])\n"
     ]
    }
   ],
   "execution_count": 7
  },
  {
   "metadata": {
    "ExecuteTime": {
     "end_time": "2025-01-08T02:29:43.107855Z",
     "start_time": "2025-01-08T02:29:43.104695Z"
    }
   },
   "cell_type": "code",
   "source": [
    "A = torch.tensor([[1, 2], [4, 5]])\n",
    "B = torch.tensor([[1, 2], [4, 5]])\n",
    "print(A*B) # hadammar product?\n",
    "print(A@B) # np.dot"
   ],
   "id": "7284e3192c4e98dd",
   "outputs": [
    {
     "name": "stdout",
     "output_type": "stream",
     "text": [
      "tensor([[ 1,  4],\n",
      "        [16, 25]])\n",
      "tensor([[ 9, 12],\n",
      "        [24, 33]])\n"
     ]
    }
   ],
   "execution_count": 10
  }
 ],
 "metadata": {
  "kernelspec": {
   "display_name": "Python 3",
   "language": "python",
   "name": "python3"
  },
  "language_info": {
   "codemirror_mode": {
    "name": "ipython",
    "version": 2
   },
   "file_extension": ".py",
   "mimetype": "text/x-python",
   "name": "python",
   "nbconvert_exporter": "python",
   "pygments_lexer": "ipython2",
   "version": "2.7.6"
  }
 },
 "nbformat": 4,
 "nbformat_minor": 5
}
