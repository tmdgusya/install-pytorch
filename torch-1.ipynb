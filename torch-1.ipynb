{
 "cells": [
  {
   "cell_type": "code",
   "execution_count": 2,
   "id": "initial_id",
   "metadata": {
    "ExecuteTime": {
     "end_time": "2025-01-08T02:22:11.173753Z",
     "start_time": "2025-01-08T02:22:11.153448Z"
    },
    "collapsed": true
   },
   "outputs": [
    {
     "name": "stdout",
     "output_type": "stream",
     "text": [
      "tensor([1, 2, 3, 4])\n",
      "<class 'torch.Tensor'>\n",
      "torch.int64\n",
      "torch.Size([4])\n",
      "torch.float32\n",
      "tensor([1.0000, 2.0000, 3.1000, 4.0000])\n"
     ]
    }
   ],
   "source": [
    "import torch\n",
    "\n",
    "a = torch.tensor([1, 2, 3, 4])\n",
    "print(a)\n",
    "print(type(a))\n",
    "print(a.dtype)\n",
    "print(a.shape)\n",
    "b = torch.tensor([1, 2, 3.1, 4])\n",
    "print(b.dtype)\n",
    "print(b)"
   ]
  },
  {
   "cell_type": "code",
   "execution_count": 3,
   "id": "79d2a7e1a2fdd9a0",
   "metadata": {
    "ExecuteTime": {
     "end_time": "2025-01-08T02:23:03.101164Z",
     "start_time": "2025-01-08T02:23:03.093403Z"
    }
   },
   "outputs": [
    {
     "name": "stdout",
     "output_type": "stream",
     "text": [
      "tensor([[1, 2, 3],\n",
      "        [4, 5, 6]])\n",
      "torch.Size([2, 3])\n",
      "2\n",
      "6\n"
     ]
    }
   ],
   "source": [
    "A = torch.tensor([[1, 2, 3], [4, 5, 6]])\n",
    "print(A)\n",
    "print(A.shape)\n",
    "print(A.ndim) # 차원의 수\n",
    "print(A.numel()) # 전체 행렬의 수"
   ]
  },
  {
   "cell_type": "code",
   "execution_count": 4,
   "id": "175da473f5e35612",
   "metadata": {
    "ExecuteTime": {
     "end_time": "2025-01-08T02:26:58.526118Z",
     "start_time": "2025-01-08T02:26:58.521383Z"
    }
   },
   "outputs": [
    {
     "name": "stdout",
     "output_type": "stream",
     "text": [
      "tensor([[0., 0., 0., 0.],\n",
      "        [0., 0., 0., 0.],\n",
      "        [0., 0., 0., 0.]])\n",
      "tensor([[0, 0, 0],\n",
      "        [0, 0, 0]])\n",
      "tensor([1, 4, 7])\n",
      "tensor([0.0000, 0.1111, 0.2222, 0.3333, 0.4444, 0.5556, 0.6667, 0.7778, 0.8889,\n",
      "        1.0000])\n"
     ]
    }
   ],
   "source": [
    "print(torch.zeros(3, 4))\n",
    "print(torch.zeros_like(A))\n",
    "print(torch.arange(1, 10, 3))\n",
    "print(torch.linspace(0, 1, 10)) # linearspace 0~1 까지 10개 만들어줘"
   ]
  },
  {
   "cell_type": "code",
   "execution_count": 5,
   "id": "7284e3192c4e98dd",
   "metadata": {
    "ExecuteTime": {
     "end_time": "2025-01-08T02:29:43.107855Z",
     "start_time": "2025-01-08T02:29:43.104695Z"
    }
   },
   "outputs": [
    {
     "name": "stdout",
     "output_type": "stream",
     "text": [
      "tensor([[ 1,  4],\n",
      "        [16, 25]])\n",
      "tensor([[ 9, 12],\n",
      "        [24, 33]])\n"
     ]
    }
   ],
   "source": [
    "A = torch.tensor([[1, 2], [4, 5]])\n",
    "B = torch.tensor([[1, 2], [4, 5]])\n",
    "print(A*B) # hadammar product?\n",
    "print(A@B) # np.dot"
   ]
  }
 ],
 "metadata": {
  "kernelspec": {
   "display_name": "torch-cuda",
   "language": "python",
   "name": "python3"
  },
  "language_info": {
   "codemirror_mode": {
    "name": "ipython",
    "version": 3
   },
   "file_extension": ".py",
   "mimetype": "text/x-python",
   "name": "python",
   "nbconvert_exporter": "python",
   "pygments_lexer": "ipython3",
   "version": "3.10.12"
  }
 },
 "nbformat": 4,
 "nbformat_minor": 5
}
