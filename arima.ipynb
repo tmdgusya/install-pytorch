{
 "cells": [
  {
   "cell_type": "code",
   "id": "initial_id",
   "metadata": {
    "collapsed": true,
    "ExecuteTime": {
     "end_time": "2025-02-17T23:15:36.275722Z",
     "start_time": "2025-02-17T23:15:35.471681Z"
    }
   },
   "source": [
    "from datetime import datetime\n",
    "\n",
    "from pandas import read_csv\n",
    "from pandas import DataFrame\n",
    "from statsmodels.tsa.arima_model import ARIMA\n",
    "from matplotlib import pyplot"
   ],
   "outputs": [],
   "execution_count": 1
  },
  {
   "metadata": {
    "ExecuteTime": {
     "end_time": "2025-02-17T23:16:07.230532Z",
     "start_time": "2025-02-17T23:16:07.227850Z"
    }
   },
   "cell_type": "code",
   "source": [
    "def parser(x):\n",
    "    return datetime.strptime(x, \"%Y-%m-%d\")"
   ],
   "id": "fb2a5d8aa925c50a",
   "outputs": [],
   "execution_count": 2
  },
  {
   "metadata": {},
   "cell_type": "code",
   "outputs": [],
   "execution_count": null,
   "source": [
    "series = read_csv(\"./data/sales.csv\", header=0, parse_dates=[0], index_col=0)\n",
    "model = ARIMA(series, order=(5, 1, 0))\n",
    "model_fit = model.fit(disp=0)\n",
    "print(model_fit.summary())"
   ],
   "id": "172cc1d8d59cb5ba"
  },
  {
   "metadata": {},
   "cell_type": "code",
   "outputs": [],
   "execution_count": null,
   "source": [
    "residuals = model_fit.resid\n",
    "residuals.plot()\n",
    "pyplot.show()"
   ],
   "id": "593253d7aa21a289"
  }
 ],
 "metadata": {
  "kernelspec": {
   "display_name": "Python 3",
   "language": "python",
   "name": "python3"
  },
  "language_info": {
   "codemirror_mode": {
    "name": "ipython",
    "version": 2
   },
   "file_extension": ".py",
   "mimetype": "text/x-python",
   "name": "python",
   "nbconvert_exporter": "python",
   "pygments_lexer": "ipython2",
   "version": "2.7.6"
  }
 },
 "nbformat": 4,
 "nbformat_minor": 5
}
