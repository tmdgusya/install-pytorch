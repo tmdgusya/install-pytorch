{
 "cells": [
  {
   "cell_type": "code",
   "execution_count": 2,
   "metadata": {},
   "outputs": [],
   "source": [
    "from torch.utils.data import Dataset, DataLoader\n",
    "import torchvision.transforms as transforms\n",
    "from torchvision import datasets\n",
    "import torch\n",
    "\n",
    "\n",
    "mnist_transform = transforms.Compose(\n",
    "    [\n",
    "        transforms.ToTensor(), # torchvision 이 오직 PIL Image 형태로만 받아 tensor 형태로 변환 필요\n",
    "        transforms.Normalize(mean=(0.5,), std=(1.0,),)\n",
    "    ]\n",
    ")"
   ]
  },
  {
   "cell_type": "code",
   "execution_count": 3,
   "metadata": {},
   "outputs": [],
   "source": [
    "import urllib.request\n",
    "import gzip\n",
    "import shutil\n",
    "import os\n",
    "\n",
    "# if\n",
    "\n",
    "# Define the URLs for the MNIST dataset\n",
    "urls = {\n",
    "    \"train-images-idx3-ubyte.gz\": \"https://ossci-datasets.s3.amazonaws.com/mnist/train-images-idx3-ubyte.gz\",\n",
    "    \"train-labels-idx1-ubyte.gz\": \"https://ossci-datasets.s3.amazonaws.com/mnist/train-labels-idx1-ubyte.gz\",\n",
    "    \"t10k-images-idx3-ubyte.gz\": \"https://ossci-datasets.s3.amazonaws.com/mnist/t10k-images-idx3-ubyte.gz\",\n",
    "    \"t10k-labels-idx1-ubyte.gz\": \"https://ossci-datasets.s3.amazonaws.com/mnist/t10k-labels-idx1-ubyte.gz\"\n",
    "}\n",
    "\n",
    "# Define the directory to save the dataset\n",
    "dataset_dir = \"content/MNIST/raw\"\n",
    "os.makedirs(dataset_dir, exist_ok=True)\n",
    "\n",
    "# check if the dataset is already downloaded\n",
    "if not all([os.path.exists(os.path.join(dataset_dir, filename.replace('.gz', ''))) for filename in urls.keys()]):\n",
    "    print(\"The dataset files are already downloaded.\")\n",
    "    # Function to download and extract the dataset\n",
    "    def download_and_extract(url, filename):\n",
    "        filepath = os.path.join(dataset_dir, filename)\n",
    "        print(f\"Downloading {url} to {filepath}\")\n",
    "        urllib.request.urlretrieve(url, filepath)\n",
    "        print(f\"Extracting {filepath}\")\n",
    "        with gzip.open(filepath, 'rb') as f_in:\n",
    "            with open(filepath.replace('.gz', ''), 'wb') as f_out:\n",
    "                shutil.copyfileobj(f_in, f_out)\n",
    "        os.remove(filepath)\n",
    "\n",
    "    # Download and extract each file\n",
    "    for filename, url in urls.items():\n",
    "        download_and_extract(url, filename)\n",
    "\n",
    "train_set = datasets.MNIST(\n",
    "    root='content/', \n",
    "    train=True, \n",
    "    download=True, \n",
    "    transform=mnist_transform\n",
    "    )\n",
    "\n",
    "test_set = datasets.MNIST(\n",
    "    root='content/', \n",
    "    train=False, \n",
    "    download=True, \n",
    "    transform=mnist_transform\n",
    "    )"
   ]
  },
  {
   "cell_type": "code",
   "execution_count": 4,
   "metadata": {},
   "outputs": [],
   "source": [
    "train_loader = DataLoader(train_set, batch_size=8, shuffle=True, num_workers=2)\n",
    "test_loader = DataLoader(test_set, batch_size=8, shuffle=False, num_workers=2)"
   ]
  },
  {
   "cell_type": "code",
   "execution_count": 5,
   "metadata": {},
   "outputs": [
    {
     "data": {
      "text/plain": [
       "(torch.Size([8, 1, 28, 28]), torch.Size([8]))"
      ]
     },
     "execution_count": 5,
     "metadata": {},
     "output_type": "execute_result"
    }
   ],
   "source": [
    "dataiter = iter(train_loader)\n",
    "images, labels = next(dataiter)\n",
    "images.shape, labels.shape"
   ]
  },
  {
   "cell_type": "code",
   "execution_count": 6,
   "metadata": {},
   "outputs": [
    {
     "data": {
      "text/plain": [
       "torch.Size([28, 28])"
      ]
     },
     "execution_count": 6,
     "metadata": {},
     "output_type": "execute_result"
    }
   ],
   "source": [
    "torch_image = torch.squeeze(images[0])\n",
    "torch_image.shape"
   ]
  },
  {
   "cell_type": "code",
   "execution_count": 7,
   "metadata": {},
   "outputs": [
    {
     "data": {
      "image/png": "[encoded data removed]",
      "text/plain": [
       "<Figure size 1200x600 with 8 Axes>"
      ]
     },
     "metadata": {},
     "output_type": "display_data"
    }
   ],
   "source": [
    "import matplotlib.pyplot as plt\n",
    "\n",
    "figure = plt.figure(figsize=(12, 6))\n",
    "cols, rows = 4, 2\n",
    "\n",
    "for i in range(1, cols * rows + 1):\n",
    "    sample_idx = torch.randint(len(train_set), size=(1,)).item()\n",
    "    img, label = train_set[sample_idx]\n",
    "    figure.add_subplot(rows, cols, i)\n",
    "    plt.title(label)\n",
    "    plt.axis('off')\n",
    "    plt.imshow(img.squeeze(), cmap='gray')\n",
    "\n",
    "plt.show()"
   ]
  },
  {
   "cell_type": "code",
   "execution_count": 8,
   "metadata": {},
   "outputs": [],
   "source": [
    "import torch.nn as nn"
   ]
  },
  {
   "cell_type": "code",
   "execution_count": 9,
   "metadata": {},
   "outputs": [
    {
     "name": "stdout",
     "output_type": "stream",
     "text": [
      "tensor([[-0.4109, -1.0219, -0.9429,  ..., -0.2202,  1.1391,  0.0637],\n",
      "        [-0.9117, -0.1457, -0.5271,  ...,  0.0653, -0.4033, -0.7849],\n",
      "        [ 0.7550, -0.1554, -1.3216,  ..., -0.6211,  0.2648, -3.3926],\n",
      "        ...,\n",
      "        [ 1.1455,  0.9376,  0.7013,  ...,  1.5261,  1.2000, -1.2060],\n",
      "        [ 1.5233,  0.2542,  0.2777,  ...,  1.1938, -0.7505, -0.2472],\n",
      "        [-0.8583, -0.6909,  0.7940,  ...,  0.4356,  0.4509,  0.3574]])\n"
     ]
    }
   ],
   "source": [
    "input = torch.randn(128, 20)\n",
    "print(input)"
   ]
  },
  {
   "cell_type": "code",
   "execution_count": 11,
   "metadata": {},
   "outputs": [
    {
     "name": "stdout",
     "output_type": "stream",
     "text": [
      "Linear(in_features=20, out_features=30, bias=True)\n",
      "tensor([[ 1.1804,  0.3610, -0.5805,  ..., -0.1903, -1.0409,  0.0220],\n",
      "        [ 0.3764,  0.6032,  0.3143,  ...,  0.0594, -0.0328, -0.0966],\n",
      "        [ 0.3046,  0.0249, -0.8694,  ..., -0.5221,  0.2994,  0.2249],\n",
      "        ...,\n",
      "        [ 0.9797,  0.2478, -1.0251,  ...,  0.7757, -0.1945,  0.1140],\n",
      "        [ 0.2214,  0.2512, -0.5829,  ...,  0.3971, -1.1867, -0.9278],\n",
      "        [-0.4142,  0.6603,  0.3042,  ...,  0.1129, -0.4522, -0.4119]],\n",
      "       grad_fn=<AddmmBackward0>)\n",
      "torch.Size([128, 30])\n"
     ]
    }
   ],
   "source": [
    "m = nn.Linear(20, 30)\n",
    "print(m)\n",
    "\n",
    "output = m(input)\n",
    "print(output)\n",
    "print(output.size()) # torch.matmlu(input, m.weight.t()) + m.bias => 128 x 30"
   ]
  },
  {
   "cell_type": "code",
   "execution_count": 23,
   "metadata": {},
   "outputs": [
    {
     "name": "stdout",
     "output_type": "stream",
     "text": [
      "torch.Size([20, 16, 50, 20])\n"
     ]
    }
   ],
   "source": [
    "input = torch.randn(20, 16, 50, 20)\n",
    "print(input.size())"
   ]
  },
  {
   "cell_type": "code",
   "execution_count": 24,
   "metadata": {},
   "outputs": [
    {
     "name": "stdout",
     "output_type": "stream",
     "text": [
      "Conv2d(16, 33, kernel_size=(3, 5), stride=(2, 1), padding=(4, 2), dilation=(3, 1))\n"
     ]
    }
   ],
   "source": [
    "import torch.nn as nn\n",
    "\n",
    "conv1 = nn.Conv2d(16, 33, 3, stride=2)\n",
    "conv2 = nn.Conv2d(16, 33, (3, 5), stride=(2, 1), padding=(4, 2))\n",
    "conv3 = nn.Conv2d(16, 33, (3, 5), stride=(2, 1), padding=(4, 2), dilation=(3, 1))\n",
    "print(conv3)"
   ]
  },
  {
   "cell_type": "code",
   "execution_count": 25,
   "metadata": {},
   "outputs": [
    {
     "name": "stdout",
     "output_type": "stream",
     "text": [
      "torch.Size([20, 16, 50, 30])\n"
     ]
    }
   ],
   "source": [
    "output = m(input)\n",
    "print(output.size())"
   ]
  },
  {
   "cell_type": "code",
   "execution_count": null,
   "metadata": {},
   "outputs": [],
   "source": []
  }
 ],
 "metadata": {
  "kernelspec": {
   "display_name": "torch-cuda",
   "language": "python",
   "name": "python3"
  },
  "language_info": {
   "codemirror_mode": {
    "name": "ipython",
    "version": 3
   },
   "file_extension": ".py",
   "mimetype": "text/x-python",
   "name": "python",
   "nbconvert_exporter": "python",
   "pygments_lexer": "ipython3",
   "version": "3.10.12"
  }
 },
 "nbformat": 4,
 "nbformat_minor": 2
}
