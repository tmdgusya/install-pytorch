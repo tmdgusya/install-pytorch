{
 "cells": [
  {
   "cell_type": "code",
   "execution_count": 1,
   "metadata": {
    "jupyter": {
     "is_executing": true
    }
   },
   "outputs": [],
   "source": [
    "from torch.utils.data import Dataset, DataLoader\n",
    "import torchvision.transforms as transforms\n",
    "from torchvision import datasets\n",
    "import torch\n",
    "\n",
    "\n",
    "mnist_transform = transforms.Compose(\n",
    "    [\n",
    "        transforms.ToTensor(), # torchvision 이 오직 PIL Image 형태로만 받아 tensor 형태로 변환 필요\n",
    "        transforms.Normalize(mean=(0.5,), std=(1.0,),)\n",
    "    ]\n",
    ")"
   ]
  },
  {
   "cell_type": "code",
   "execution_count": 2,
   "metadata": {},
   "outputs": [],
   "source": [
    "import urllib.request\n",
    "import gzip\n",
    "import shutil\n",
    "import os\n",
    "\n",
    "# if\n",
    "\n",
    "# Define the URLs for the MNIST dataset\n",
    "urls = {\n",
    "    \"train-images-idx3-ubyte.gz\": \"https://ossci-datasets.s3.amazonaws.com/mnist/train-images-idx3-ubyte.gz\",\n",
    "    \"train-labels-idx1-ubyte.gz\": \"https://ossci-datasets.s3.amazonaws.com/mnist/train-labels-idx1-ubyte.gz\",\n",
    "    \"t10k-images-idx3-ubyte.gz\": \"https://ossci-datasets.s3.amazonaws.com/mnist/t10k-images-idx3-ubyte.gz\",\n",
    "    \"t10k-labels-idx1-ubyte.gz\": \"https://ossci-datasets.s3.amazonaws.com/mnist/t10k-labels-idx1-ubyte.gz\"\n",
    "}\n",
    "\n",
    "# Define the directory to save the dataset\n",
    "dataset_dir = \"content/MNIST/raw\"\n",
    "os.makedirs(dataset_dir, exist_ok=True)\n",
    "\n",
    "# check if the dataset is already downloaded\n",
    "if not all([os.path.exists(os.path.join(dataset_dir, filename.replace('.gz', ''))) for filename in urls.keys()]):\n",
    "    print(\"The dataset files are already downloaded.\")\n",
    "    # Function to download and extract the dataset\n",
    "    def download_and_extract(url, filename):\n",
    "        filepath = os.path.join(dataset_dir, filename)\n",
    "        print(f\"Downloading {url} to {filepath}\")\n",
    "        urllib.request.urlretrieve(url, filepath)\n",
    "        print(f\"Extracting {filepath}\")\n",
    "        with gzip.open(filepath, 'rb') as f_in:\n",
    "            with open(filepath.replace('.gz', ''), 'wb') as f_out:\n",
    "                shutil.copyfileobj(f_in, f_out)\n",
    "        os.remove(filepath)\n",
    "\n",
    "    # Download and extract each file\n",
    "    for filename, url in urls.items():\n",
    "        download_and_extract(url, filename)\n",
    "\n",
    "train_set = datasets.MNIST(\n",
    "    root='content/', \n",
    "    train=True, \n",
    "    download=True, \n",
    "    transform=mnist_transform\n",
    "    )\n",
    "\n",
    "test_set = datasets.MNIST(\n",
    "    root='content/', \n",
    "    train=False, \n",
    "    download=True, \n",
    "    transform=mnist_transform\n",
    "    )"
   ]
  },
  {
   "cell_type": "code",
   "execution_count": 3,
   "metadata": {},
   "outputs": [],
   "source": [
    "train_loader = DataLoader(train_set, batch_size=8, shuffle=True, num_workers=2)\n",
    "test_loader = DataLoader(test_set, batch_size=8, shuffle=False, num_workers=2)"
   ]
  },
  {
   "cell_type": "code",
   "execution_count": 4,
   "metadata": {},
   "outputs": [
    {
     "data": {
      "text/plain": [
       "(torch.Size([8, 1, 28, 28]), torch.Size([8]))"
      ]
     },
     "execution_count": 4,
     "metadata": {},
     "output_type": "execute_result"
    }
   ],
   "source": [
    "dataiter = iter(train_loader)\n",
    "images, labels = next(dataiter)\n",
    "images.shape, labels.shape"
   ]
  },
  {
   "cell_type": "code",
   "execution_count": 5,
   "metadata": {},
   "outputs": [
    {
     "data": {
      "text/plain": [
       "torch.Size([28, 28])"
      ]
     },
     "execution_count": 5,
     "metadata": {},
     "output_type": "execute_result"
    }
   ],
   "source": [
    "torch_image = torch.squeeze(images[0])\n",
    "torch_image.shape"
   ]
  },
  {
   "cell_type": "code",
   "execution_count": 6,
   "metadata": {},
   "outputs": [
    {
     "data": {
      "image/png": "[encoded data removed]",
      "text/plain": [
       "<Figure size 1200x600 with 8 Axes>"
      ]
     },
     "metadata": {},
     "output_type": "display_data"
    }
   ],
   "source": [
    "import matplotlib.pyplot as plt\n",
    "\n",
    "figure = plt.figure(figsize=(12, 6))\n",
    "cols, rows = 4, 2\n",
    "\n",
    "for i in range(1, cols * rows + 1):\n",
    "    sample_idx = torch.randint(len(train_set), size=(1,)).item()\n",
    "    img, label = train_set[sample_idx]\n",
    "    figure.add_subplot(rows, cols, i)\n",
    "    plt.title(label)\n",
    "    plt.axis('off')\n",
    "    plt.imshow(img.squeeze(), cmap='gray')\n",
    "\n",
    "plt.show()"
   ]
  },
  {
   "cell_type": "code",
   "execution_count": 7,
   "metadata": {},
   "outputs": [],
   "source": [
    "import torch.nn as nn"
   ]
  },
  {
   "cell_type": "code",
   "execution_count": 8,
   "metadata": {},
   "outputs": [
    {
     "name": "stdout",
     "output_type": "stream",
     "text": [
      "tensor([[ 0.2022,  1.1808, -0.6868,  ...,  1.0474,  1.7699, -2.6731],\n",
      "        [ 0.0842,  0.5329, -1.4590,  ...,  0.6920,  0.6534, -1.6823],\n",
      "        [-0.7494, -0.3998,  0.4705,  ..., -0.1407, -1.2385, -0.2788],\n",
      "        ...,\n",
      "        [-0.1100,  1.0785,  1.5538,  ...,  1.2845,  1.8563, -0.7296],\n",
      "        [-0.9807, -0.6562, -0.8799,  ...,  0.9268,  0.0101,  0.0420],\n",
      "        [-0.7016,  0.1286, -1.6780,  ..., -1.2565, -0.0894, -0.2591]])\n"
     ]
    }
   ],
   "source": [
    "input = torch.randn(128, 20)\n",
    "print(input)"
   ]
  },
  {
   "cell_type": "code",
   "execution_count": 9,
   "metadata": {},
   "outputs": [
    {
     "name": "stdout",
     "output_type": "stream",
     "text": [
      "Linear(in_features=20, out_features=30, bias=True)\n",
      "tensor([[ 1.5624e-01, -4.8150e-01,  1.3261e+00,  ..., -2.0838e-04,\n",
      "         -1.4353e+00,  5.7660e-02],\n",
      "        [ 2.4739e-01,  4.4589e-02, -3.0476e-01,  ..., -8.6754e-01,\n",
      "         -6.8112e-01,  9.0416e-01],\n",
      "        [ 1.4804e-01, -2.4762e-01, -4.0977e-01,  ..., -5.6142e-01,\n",
      "          8.0073e-01,  7.0469e-01],\n",
      "        ...,\n",
      "        [ 7.2710e-01, -1.2694e+00, -3.9968e-01,  ..., -1.5486e+00,\n",
      "         -6.1200e-01,  1.0906e+00],\n",
      "        [-7.3526e-01, -4.0659e-01, -1.1610e+00,  ...,  3.0791e-01,\n",
      "         -1.3930e+00, -8.2941e-01],\n",
      "        [ 4.1299e-01, -2.2202e-01,  5.0524e-01,  ...,  6.2670e-02,\n",
      "         -3.1283e-01, -1.8444e-02]], grad_fn=<AddmmBackward0>)\n",
      "torch.Size([128, 30])\n"
     ]
    }
   ],
   "source": [
    "m = nn.Linear(20, 30)\n",
    "print(m)\n",
    "\n",
    "output = m(input)\n",
    "print(output)\n",
    "print(output.size()) # torch.matmlu(input, m.weight.t()) + m.bias => 128 x 30"
   ]
  },
  {
   "cell_type": "code",
   "execution_count": 10,
   "metadata": {},
   "outputs": [
    {
     "name": "stdout",
     "output_type": "stream",
     "text": [
      "torch.Size([20, 16, 50, 20])\n"
     ]
    }
   ],
   "source": [
    "input = torch.randn(20, 16, 50, 20)\n",
    "print(input.size())"
   ]
  },
  {
   "cell_type": "code",
   "execution_count": 11,
   "metadata": {},
   "outputs": [
    {
     "name": "stdout",
     "output_type": "stream",
     "text": [
      "Conv2d(16, 33, kernel_size=(3, 5), stride=(2, 1), padding=(4, 2), dilation=(3, 1))\n"
     ]
    }
   ],
   "source": [
    "import torch.nn as nn\n",
    "\n",
    "conv1 = nn.Conv2d(16, 33, 3, stride=2)\n",
    "conv2 = nn.Conv2d(16, 33, (3, 5), stride=(2, 1), padding=(4, 2))\n",
    "conv3 = nn.Conv2d(16, 33, (3, 5), stride=(2, 1), padding=(4, 2), dilation=(3, 1))\n",
    "print(conv3)"
   ]
  },
  {
   "cell_type": "code",
   "execution_count": 12,
   "metadata": {},
   "outputs": [
    {
     "name": "stdout",
     "output_type": "stream",
     "text": [
      "torch.Size([20, 16, 50, 30])\n"
     ]
    }
   ],
   "source": [
    "output = m(input)\n",
    "print(output.size())"
   ]
  },
  {
   "cell_type": "code",
   "execution_count": 13,
   "metadata": {},
   "outputs": [
    {
     "data": {
      "text/plain": [
       "Conv2d(1, 20, kernel_size=(5, 5), stride=(1, 1))"
      ]
     },
     "execution_count": 13,
     "metadata": {},
     "output_type": "execute_result"
    }
   ],
   "source": [
    "nn.Conv2d(1, 20, kernel_size=(5, 5), stride=(1, 1))"
   ]
  },
  {
   "cell_type": "code",
   "execution_count": 20,
   "metadata": {},
   "outputs": [],
   "source": [
    "layer = nn.Conv2d(1, 20, 5, 1)"
   ]
  },
  {
   "cell_type": "code",
   "execution_count": 16,
   "metadata": {},
   "outputs": [
    {
     "data": {
      "text/plain": [
       "torch.Size([20, 1, 5, 5])"
      ]
     },
     "execution_count": 16,
     "metadata": {},
     "output_type": "execute_result"
    }
   ],
   "source": [
    "weight = layer.weight\n",
    "weight.shape"
   ]
  },
  {
   "cell_type": "code",
   "execution_count": 23,
   "metadata": {},
   "outputs": [
    {
     "name": "stdout",
     "output_type": "stream",
     "text": [
      "<class 'numpy.ndarray'>\n"
     ]
    }
   ],
   "source": [
    "print(type(weight))"
   ]
  },
  {
   "cell_type": "code",
   "execution_count": 25,
   "metadata": {},
   "outputs": [
    {
     "data": {
      "image/png": "[encoded data removed]",
      "text/plain": [
       "<Figure size 640x480 with 2 Axes>"
      ]
     },
     "metadata": {},
     "output_type": "display_data"
    }
   ],
   "source": [
    "plt.imshow(weight[0, 0, :, :], 'gray')\n",
    "plt.colorbar()\n",
    "plt.show()"
   ]
  },
  {
   "cell_type": "code",
   "execution_count": 26,
   "metadata": {},
   "outputs": [
    {
     "name": "stdout",
     "output_type": "stream",
     "text": [
      "torch.Size([8, 1, 28, 28])\n",
      "torch.Size([1, 28, 28])\n",
      "torch.Size([28, 28])\n"
     ]
    }
   ],
   "source": [
    "print(images.shape)\n",
    "print(images[0].shape)\n",
    "\n",
    "input_image = torch.squeeze(images[0])\n",
    "print(input_image.shape)"
   ]
  },
  {
   "cell_type": "code",
   "execution_count": 40,
   "metadata": {},
   "outputs": [
    {
     "name": "stdout",
     "output_type": "stream",
     "text": [
      "torch.Size([1, 1, 28, 28])\n",
      "torch.Size([1, 20, 24, 24])\n",
      "(1, 20, 24, 24)\n"
     ]
    }
   ],
   "source": [
    "input_data = torch.unsqueeze(images[0], 0)\n",
    "print(input_data.shape)\n",
    "\n",
    "output = layer(input_data)\n",
    "print(output.shape)\n",
    "output_arr = output.data.numpy()\n",
    "print(output_arr.shape)"
   ]
  },
  {
   "cell_type": "code",
   "execution_count": 46,
   "metadata": {},
   "outputs": [
    {
     "data": {
      "image/png": "[encoded data removed]",
      "text/plain": [
       "<Figure size 1500x3000 with 3 Axes>"
      ]
     },
     "metadata": {},
     "output_type": "display_data"
    }
   ],
   "source": [
    "plt.figure(figsize=(15, 30))\n",
    "plt.subplot(131)\n",
    "plt.title('Input')\n",
    "plt.imshow(input_image, 'gray')\n",
    "\n",
    "plt.subplot(132)\n",
    "plt.title('Weight')\n",
    "plt.imshow(weight[0, 0, :, :], 'gray')\n",
    "\n",
    "plt.subplot(133)\n",
    "plt.title('Output')\n",
    "plt.imshow(output_arr[0, 0, :, :], 'gray')\n",
    "plt.show()"
   ]
  },
  {
   "cell_type": "code",
   "execution_count": 42,
   "metadata": {},
   "outputs": [
    {
     "data": {
      "image/png": "[encoded data removed]",
      "text/plain": [
       "<Figure size 500x500 with 1 Axes>"
      ]
     },
     "metadata": {},
     "output_type": "display_data"
    }
   ],
   "source": [
    "import matplotlib.pyplot as plt\n",
    "\n",
    "# Create a figure with a specific size\n",
    "plt.figure(figsize=(5, 5))\n",
    "\n",
    "# Plot some data\n",
    "plt.plot([1, 2, 3, 4], [10, 20, 25, 30])\n",
    "\n",
    "# Add title and labels\n",
    "plt.title('Example Plot')\n",
    "plt.xlabel('X-axis')\n",
    "plt.ylabel('Y-axis')\n",
    "\n",
    "# Show the plot\n",
    "plt.show()"
   ]
  }
 ],
 "metadata": {
  "kernelspec": {
   "display_name": "torch-cuda",
   "language": "python",
   "name": "python3"
  },
  "language_info": {
   "codemirror_mode": {
    "name": "ipython",
    "version": 3
   },
   "file_extension": ".py",
   "mimetype": "text/x-python",
   "name": "python",
   "nbconvert_exporter": "python",
   "pygments_lexer": "ipython3",
   "version": "3.10.12"
  }
 },
 "nbformat": 4,
 "nbformat_minor": 2
}
